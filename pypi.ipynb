{
 "cells": [
  {
   "cell_type": "code",
   "execution_count": 12,
   "id": "f7ad02c0",
   "metadata": {},
   "outputs": [
    {
     "name": "stdout",
     "output_type": "stream",
     "text": [
      "Requirement already satisfied: action-rules in c:\\users\\lukas.sykora\\anaconda3\\lib\\site-packages (0.0.1)\n",
      "Collecting action-rules\n",
      "  Obtaining dependency information for action-rules from https://files.pythonhosted.org/packages/7f/94/d2f6f15d3f51fc78d1f32e94925a59e1e36ec00114ee1afe3774b545bccc/action_rules-0.0.2-py3-none-any.whl.metadata\n",
      "  Downloading action_rules-0.0.2-py3-none-any.whl.metadata (2.4 kB)\n",
      "Requirement already satisfied: pandas~=2.2.2 in c:\\users\\lukas.sykora\\anaconda3\\lib\\site-packages (from action-rules) (2.2.2)\n",
      "Requirement already satisfied: numpy>=1.22.4 in c:\\users\\lukas.sykora\\anaconda3\\lib\\site-packages (from pandas~=2.2.2->action-rules) (1.24.3)\n",
      "Requirement already satisfied: python-dateutil>=2.8.2 in c:\\users\\lukas.sykora\\anaconda3\\lib\\site-packages (from pandas~=2.2.2->action-rules) (2.8.2)\n",
      "Requirement already satisfied: pytz>=2020.1 in c:\\users\\lukas.sykora\\anaconda3\\lib\\site-packages (from pandas~=2.2.2->action-rules) (2023.3.post1)\n",
      "Requirement already satisfied: tzdata>=2022.7 in c:\\users\\lukas.sykora\\anaconda3\\lib\\site-packages (from pandas~=2.2.2->action-rules) (2023.3)\n",
      "Requirement already satisfied: six>=1.5 in c:\\users\\lukas.sykora\\anaconda3\\lib\\site-packages (from python-dateutil>=2.8.2->pandas~=2.2.2->action-rules) (1.16.0)\n",
      "Downloading action_rules-0.0.2-py3-none-any.whl (6.1 kB)\n",
      "Installing collected packages: action-rules\n",
      "  Attempting uninstall: action-rules\n",
      "    Found existing installation: action-rules 0.0.1\n",
      "    Uninstalling action-rules-0.0.1:\n",
      "      Successfully uninstalled action-rules-0.0.1\n",
      "Successfully installed action-rules-0.0.2\n"
     ]
    }
   ],
   "source": [
    "import sys\n",
    "!{sys.executable} -m pip install --upgrade action-rules"
   ]
  },
  {
   "cell_type": "markdown",
   "id": "bfa5954c",
   "metadata": {},
   "source": [
    "# Simplified Titanic Example"
   ]
  },
  {
   "cell_type": "markdown",
   "id": "459a2a0c",
   "metadata": {},
   "source": [
    "## Data"
   ]
  },
  {
   "cell_type": "code",
   "execution_count": 13,
   "id": "d2d468f5",
   "metadata": {},
   "outputs": [
    {
     "data": {
      "text/html": [
       "<div>\n",
       "<style scoped>\n",
       "    .dataframe tbody tr th:only-of-type {\n",
       "        vertical-align: middle;\n",
       "    }\n",
       "\n",
       "    .dataframe tbody tr th {\n",
       "        vertical-align: top;\n",
       "    }\n",
       "\n",
       "    .dataframe thead th {\n",
       "        text-align: right;\n",
       "    }\n",
       "</style>\n",
       "<table border=\"1\" class=\"dataframe\">\n",
       "  <thead>\n",
       "    <tr style=\"text-align: right;\">\n",
       "      <th></th>\n",
       "      <th>Sex</th>\n",
       "      <th>Age</th>\n",
       "      <th>Class</th>\n",
       "      <th>Embarked</th>\n",
       "      <th>Survived</th>\n",
       "    </tr>\n",
       "  </thead>\n",
       "  <tbody>\n",
       "    <tr>\n",
       "      <th>0</th>\n",
       "      <td>M</td>\n",
       "      <td>Y</td>\n",
       "      <td>1</td>\n",
       "      <td>S</td>\n",
       "      <td>1</td>\n",
       "    </tr>\n",
       "    <tr>\n",
       "      <th>1</th>\n",
       "      <td>F</td>\n",
       "      <td>Y</td>\n",
       "      <td>1</td>\n",
       "      <td>C</td>\n",
       "      <td>1</td>\n",
       "    </tr>\n",
       "    <tr>\n",
       "      <th>2</th>\n",
       "      <td>M</td>\n",
       "      <td>O</td>\n",
       "      <td>2</td>\n",
       "      <td>S</td>\n",
       "      <td>0</td>\n",
       "    </tr>\n",
       "    <tr>\n",
       "      <th>3</th>\n",
       "      <td>M</td>\n",
       "      <td>Y</td>\n",
       "      <td>2</td>\n",
       "      <td>C</td>\n",
       "      <td>0</td>\n",
       "    </tr>\n",
       "    <tr>\n",
       "      <th>4</th>\n",
       "      <td>F</td>\n",
       "      <td>Y</td>\n",
       "      <td>1</td>\n",
       "      <td>S</td>\n",
       "      <td>1</td>\n",
       "    </tr>\n",
       "    <tr>\n",
       "      <th>5</th>\n",
       "      <td>M</td>\n",
       "      <td>O</td>\n",
       "      <td>1</td>\n",
       "      <td>C</td>\n",
       "      <td>1</td>\n",
       "    </tr>\n",
       "    <tr>\n",
       "      <th>6</th>\n",
       "      <td>F</td>\n",
       "      <td>Y</td>\n",
       "      <td>2</td>\n",
       "      <td>C</td>\n",
       "      <td>0</td>\n",
       "    </tr>\n",
       "  </tbody>\n",
       "</table>\n",
       "</div>"
      ],
      "text/plain": [
       "  Sex Age  Class Embarked  Survived\n",
       "0   M   Y      1        S         1\n",
       "1   F   Y      1        C         1\n",
       "2   M   O      2        S         0\n",
       "3   M   Y      2        C         0\n",
       "4   F   Y      1        S         1\n",
       "5   M   O      1        C         1\n",
       "6   F   Y      2        C         0"
      ]
     },
     "execution_count": 13,
     "metadata": {},
     "output_type": "execute_result"
    }
   ],
   "source": [
    "import pandas as pd\n",
    "transactions = {'Sex': ['M', 'F', 'M', 'M', 'F', 'M', 'F'], \n",
    "                'Age': ['Y', 'Y', 'O', 'Y', 'Y', 'O', 'Y'],\n",
    "                'Class': [1, 1, 2, 2, 1, 1, 2],\n",
    "                'Embarked': ['S', 'C', 'S', 'C', 'S', 'C', 'C'],\n",
    "                'Survived': [1, 1, 0, 0, 1, 1, 0],\n",
    "               }\n",
    "data = pd.DataFrame.from_dict(transactions)\n",
    "data"
   ]
  },
  {
   "cell_type": "code",
   "execution_count": 14,
   "id": "64fc57d7",
   "metadata": {},
   "outputs": [],
   "source": [
    "stable_attributes = ['Sex','Age']\n",
    "flexible_attributes = ['Class','Embarked']\n",
    "target = 'Survived'\n",
    "desired_change_in_target = [0, 1]\n",
    "min_stable_attributes = 2\n",
    "min_flexible_attributes = 1 #min 1\n",
    "min_undesired_support = 1\n",
    "min_undesired_confidence = 0.5 #min 0.5\n",
    "min_desired_support = 2\n",
    "min_desired_confidence = 0.5 #min 0.5"
   ]
  },
  {
   "cell_type": "markdown",
   "id": "8a674d3f",
   "metadata": {},
   "source": [
    "## Action-Apriori"
   ]
  },
  {
   "cell_type": "code",
   "execution_count": 18,
   "id": "b3e7cf69",
   "metadata": {},
   "outputs": [],
   "source": [
    "import action_rules.action_rules as ar"
   ]
  },
  {
   "cell_type": "markdown",
   "id": "e7a1cda1",
   "metadata": {},
   "source": [
    "Run the action-apriori with verbose=true shows itemsets, where the support is counted"
   ]
  },
  {
   "cell_type": "code",
   "execution_count": 19,
   "id": "12b0d5b3",
   "metadata": {},
   "outputs": [
    {
     "name": "stdout",
     "output_type": "stream",
     "text": [
      "SUPPORT\n",
      "('Sex_<item>_F',)\n",
      "(1, 2)\n",
      "SUPPORT\n",
      "('Sex_<item>_M',)\n",
      "(2, 2)\n",
      "SUPPORT\n",
      "('Sex_<item>_F', 'Age_<item>_O')\n",
      "(0, 0)\n",
      "SUPPORT\n",
      "('Sex_<item>_F', 'Age_<item>_Y')\n",
      "(1, 2)\n",
      "SUPPORT\n",
      "('Sex_<item>_M', 'Age_<item>_O')\n",
      "(1, 1)\n",
      "SUPPORT\n",
      "('Sex_<item>_M', 'Age_<item>_Y')\n",
      "(1, 1)\n",
      "SUPPORT\n",
      "('Sex_<item>_F', 'Age_<item>_Y', 'Class_<item>_1')\n",
      "(0, 2)\n",
      "SUPPORT\n",
      "('Sex_<item>_F', 'Age_<item>_Y', 'Class_<item>_2')\n",
      "(1, 0)\n",
      "SUPPORT\n",
      "('Sex_<item>_F', 'Age_<item>_Y', 'Embarked_<item>_C')\n",
      "(1, 1)\n",
      "SUPPORT\n",
      "('Sex_<item>_F', 'Age_<item>_Y', 'Embarked_<item>_S')\n",
      "(0, 1)\n"
     ]
    }
   ],
   "source": [
    "action_rules = ar.action_apriori(data, stable_attributes, flexible_attributes, target, desired_change_in_target, min_stable_attributes , min_flexible_attributes, min_undesired_support, min_undesired_confidence, min_desired_support, min_desired_confidence, True)"
   ]
  },
  {
   "cell_type": "markdown",
   "id": "76a0ff00",
   "metadata": {},
   "source": [
    "## Action Rules"
   ]
  },
  {
   "cell_type": "markdown",
   "id": "e9fb303d",
   "metadata": {},
   "source": [
    "### Machine Representation"
   ]
  },
  {
   "cell_type": "code",
   "execution_count": 20,
   "id": "452522ea",
   "metadata": {},
   "outputs": [
    {
     "name": "stdout",
     "output_type": "stream",
     "text": [
      "[{'stable': [{'attribute': 'Sex', 'value': 'F'}, {'attribute': 'Age', 'value': 'Y'}], 'flexible': [{'attribute': 'Class', 'undesired': '2', 'desired': '1'}], 'target': {'attribute': 'Survived', 'undesired': 0, 'desired': 1}, 'support of undesired part': 1, 'confidence of undesired part': 1.0, 'support of desired part': 2, 'confidence of desired part': 1.0}]\n"
     ]
    }
   ],
   "source": [
    "print(ar.get_export_notation(action_rules, target))"
   ]
  },
  {
   "cell_type": "markdown",
   "id": "8ddd0901",
   "metadata": {},
   "source": [
    "### Action Rules Notation"
   ]
  },
  {
   "cell_type": "code",
   "execution_count": 22,
   "id": "ea537281",
   "metadata": {},
   "outputs": [
    {
     "name": "stdout",
     "output_type": "stream",
     "text": [
      "[(Sex: F) ∧ (Age: Y) ∧ (Class: 2 → 1)] ⇒ [Survived: 0 → 1], support of undesired part: 1, confidence of undesired part: 1.0, support of desired part: 2, confidence of desired part: 1.0\n"
     ]
    }
   ],
   "source": [
    "for action_rule in action_rules:\n",
    "    print(ar.get_ar_notation(action_rule, target))"
   ]
  },
  {
   "cell_type": "code",
   "execution_count": null,
   "id": "960b3361",
   "metadata": {},
   "outputs": [],
   "source": []
  }
 ],
 "metadata": {
  "kernelspec": {
   "display_name": "Python 3 (ipykernel)",
   "language": "python",
   "name": "python3"
  },
  "language_info": {
   "codemirror_mode": {
    "name": "ipython",
    "version": 3
   },
   "file_extension": ".py",
   "mimetype": "text/x-python",
   "name": "python",
   "nbconvert_exporter": "python",
   "pygments_lexer": "ipython3",
   "version": "3.9.18"
  }
 },
 "nbformat": 4,
 "nbformat_minor": 5
}
