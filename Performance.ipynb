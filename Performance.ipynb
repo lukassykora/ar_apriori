{
 "cells": [
  {
   "cell_type": "markdown",
   "id": "f48b87f5",
   "metadata": {},
   "source": [
    "#Compare results Action-Apriori vs. ActionRulesDiscovery package"
   ]
  },
  {
   "cell_type": "code",
   "execution_count": 1,
   "id": "5c36ad8d",
   "metadata": {},
   "outputs": [
    {
     "data": {
      "text/html": [
       "<div>\n",
       "<style scoped>\n",
       "    .dataframe tbody tr th:only-of-type {\n",
       "        vertical-align: middle;\n",
       "    }\n",
       "\n",
       "    .dataframe tbody tr th {\n",
       "        vertical-align: top;\n",
       "    }\n",
       "\n",
       "    .dataframe thead th {\n",
       "        text-align: right;\n",
       "    }\n",
       "</style>\n",
       "<table border=\"1\" class=\"dataframe\">\n",
       "  <thead>\n",
       "    <tr style=\"text-align: right;\">\n",
       "      <th></th>\n",
       "      <th>ID</th>\n",
       "      <th>Age</th>\n",
       "      <th>Embarked</th>\n",
       "      <th>Fare</th>\n",
       "      <th>Pclass</th>\n",
       "      <th>Sex</th>\n",
       "      <th>Survived</th>\n",
       "    </tr>\n",
       "  </thead>\n",
       "  <tbody>\n",
       "    <tr>\n",
       "      <th>0</th>\n",
       "      <td>1</td>\n",
       "      <td>&lt;16.13336;32.10002)</td>\n",
       "      <td>S</td>\n",
       "      <td>very high</td>\n",
       "      <td>1.0</td>\n",
       "      <td>female</td>\n",
       "      <td>1.0</td>\n",
       "    </tr>\n",
       "    <tr>\n",
       "      <th>1</th>\n",
       "      <td>2</td>\n",
       "      <td>&lt;0.1667;16.13336)</td>\n",
       "      <td>S</td>\n",
       "      <td>very high</td>\n",
       "      <td>1.0</td>\n",
       "      <td>male</td>\n",
       "      <td>1.0</td>\n",
       "    </tr>\n",
       "    <tr>\n",
       "      <th>2</th>\n",
       "      <td>3</td>\n",
       "      <td>&lt;0.1667;16.13336)</td>\n",
       "      <td>S</td>\n",
       "      <td>very high</td>\n",
       "      <td>1.0</td>\n",
       "      <td>female</td>\n",
       "      <td>0.0</td>\n",
       "    </tr>\n",
       "    <tr>\n",
       "      <th>3</th>\n",
       "      <td>4</td>\n",
       "      <td>&lt;16.13336;32.10002)</td>\n",
       "      <td>S</td>\n",
       "      <td>very high</td>\n",
       "      <td>1.0</td>\n",
       "      <td>male</td>\n",
       "      <td>0.0</td>\n",
       "    </tr>\n",
       "    <tr>\n",
       "      <th>4</th>\n",
       "      <td>5</td>\n",
       "      <td>&lt;16.13336;32.10002)</td>\n",
       "      <td>S</td>\n",
       "      <td>very high</td>\n",
       "      <td>1.0</td>\n",
       "      <td>female</td>\n",
       "      <td>0.0</td>\n",
       "    </tr>\n",
       "    <tr>\n",
       "      <th>...</th>\n",
       "      <td>...</td>\n",
       "      <td>...</td>\n",
       "      <td>...</td>\n",
       "      <td>...</td>\n",
       "      <td>...</td>\n",
       "      <td>...</td>\n",
       "      <td>...</td>\n",
       "    </tr>\n",
       "    <tr>\n",
       "      <th>1305</th>\n",
       "      <td>1306</td>\n",
       "      <td>NaN</td>\n",
       "      <td>C</td>\n",
       "      <td>avg</td>\n",
       "      <td>3.0</td>\n",
       "      <td>female</td>\n",
       "      <td>0.0</td>\n",
       "    </tr>\n",
       "    <tr>\n",
       "      <th>1306</th>\n",
       "      <td>1307</td>\n",
       "      <td>&lt;16.13336;32.10002)</td>\n",
       "      <td>C</td>\n",
       "      <td>very low</td>\n",
       "      <td>3.0</td>\n",
       "      <td>male</td>\n",
       "      <td>0.0</td>\n",
       "    </tr>\n",
       "    <tr>\n",
       "      <th>1307</th>\n",
       "      <td>1308</td>\n",
       "      <td>&lt;16.13336;32.10002)</td>\n",
       "      <td>C</td>\n",
       "      <td>very low</td>\n",
       "      <td>3.0</td>\n",
       "      <td>male</td>\n",
       "      <td>0.0</td>\n",
       "    </tr>\n",
       "    <tr>\n",
       "      <th>1308</th>\n",
       "      <td>1309</td>\n",
       "      <td>&lt;16.13336;32.10002)</td>\n",
       "      <td>S</td>\n",
       "      <td>lower</td>\n",
       "      <td>3.0</td>\n",
       "      <td>male</td>\n",
       "      <td>0.0</td>\n",
       "    </tr>\n",
       "    <tr>\n",
       "      <th>1309</th>\n",
       "      <td>1310</td>\n",
       "      <td>NaN</td>\n",
       "      <td>NaN</td>\n",
       "      <td>NaN</td>\n",
       "      <td>NaN</td>\n",
       "      <td>NaN</td>\n",
       "      <td>NaN</td>\n",
       "    </tr>\n",
       "  </tbody>\n",
       "</table>\n",
       "<p>1310 rows × 7 columns</p>\n",
       "</div>"
      ],
      "text/plain": [
       "        ID                  Age Embarked       Fare  Pclass     Sex  Survived\n",
       "0        1  <16.13336;32.10002)        S  very high     1.0  female       1.0\n",
       "1        2    <0.1667;16.13336)        S  very high     1.0    male       1.0\n",
       "2        3    <0.1667;16.13336)        S  very high     1.0  female       0.0\n",
       "3        4  <16.13336;32.10002)        S  very high     1.0    male       0.0\n",
       "4        5  <16.13336;32.10002)        S  very high     1.0  female       0.0\n",
       "...    ...                  ...      ...        ...     ...     ...       ...\n",
       "1305  1306                  NaN        C        avg     3.0  female       0.0\n",
       "1306  1307  <16.13336;32.10002)        C   very low     3.0    male       0.0\n",
       "1307  1308  <16.13336;32.10002)        C   very low     3.0    male       0.0\n",
       "1308  1309  <16.13336;32.10002)        S      lower     3.0    male       0.0\n",
       "1309  1310                  NaN      NaN        NaN     NaN     NaN       NaN\n",
       "\n",
       "[1310 rows x 7 columns]"
      ]
     },
     "execution_count": 1,
     "metadata": {},
     "output_type": "execute_result"
    }
   ],
   "source": [
    "import pandas as pd\n",
    "from actionrules.actionRulesDiscovery import ActionRulesDiscovery\n",
    "dataFrame = pd.read_csv(\"titanic.csv\", sep=\";\")\n",
    "dataFrame"
   ]
  },
  {
   "cell_type": "code",
   "execution_count": 2,
   "id": "a08c060e",
   "metadata": {},
   "outputs": [
    {
     "data": {
      "text/plain": [
       "97"
      ]
     },
     "execution_count": 2,
     "metadata": {},
     "output_type": "execute_result"
    }
   ],
   "source": [
    "minsup = 20/len(dataFrame)\n",
    "actionRulesDiscovery = ActionRulesDiscovery()\n",
    "actionRulesDiscovery.load_pandas(dataFrame)\n",
    "actionRulesDiscovery.fit(stable_attributes = [\"Age\", \"Sex\"],\n",
    "                         flexible_attributes = [\"Embarked\", \"Fare\", \"Pclass\"],\n",
    "                         consequent = \"Survived\",\n",
    "                         conf=55,\n",
    "                         supp=minsup*100,\n",
    "                         desired_classes = [\"1.0\"],\n",
    "                         is_strict_flexible = False\n",
    "                         )\n",
    "len(actionRulesDiscovery.get_action_rules_representation())"
   ]
  },
  {
   "cell_type": "code",
   "execution_count": 3,
   "id": "941e8bbc",
   "metadata": {},
   "outputs": [
    {
     "data": {
      "text/plain": [
       "97"
      ]
     },
     "execution_count": 3,
     "metadata": {},
     "output_type": "execute_result"
    }
   ],
   "source": [
    "import actionapriori\n",
    "# Data\n",
    "data = dataFrame[['Age','Sex', \"Embarked\", \"Fare\", \"Pclass\", \"Survived\"]]\n",
    "# Input\n",
    "stable_attributes = ['Age','Sex']\n",
    "flexible_attributes = [\"Embarked\", \"Fare\", \"Pclass\"]\n",
    "target = 'Survived'\n",
    "wanted_change_in_target = ['0.0', '1.0']\n",
    "min_stable_attributes = 1\n",
    "min_flexible_attributes = 1 #min 1\n",
    "min_unwanted_support = 20\n",
    "min_unwanted_confidence = 0.55 #min 0.5\n",
    "min_wanted_support = 20\n",
    "min_wanted_confidence = 0.55 #min 0.5\n",
    "action_rules = actionapriori.action_apriori(data, stable_attributes, flexible_attributes, target, wanted_change_in_target, min_stable_attributes , min_flexible_attributes, min_unwanted_support, min_unwanted_confidence, min_wanted_support, min_wanted_confidence, False)\n",
    "len(action_rules)"
   ]
  },
  {
   "cell_type": "markdown",
   "id": "b9360234",
   "metadata": {},
   "source": [
    "# Performance: Action-Apriori vs. ActionRulesDiscovery package"
   ]
  },
  {
   "cell_type": "code",
   "execution_count": 4,
   "id": "6d1177df",
   "metadata": {},
   "outputs": [],
   "source": [
    "def runPyApriori():\n",
    "    minsup = 20/len(dataFrame)\n",
    "    actionRulesDiscovery = ActionRulesDiscovery()\n",
    "    actionRulesDiscovery.load_pandas(dataFrame)\n",
    "    actionRulesDiscovery.fit(stable_attributes = [\"Age\", \"Sex\"],\n",
    "                             flexible_attributes = [\"Embarked\", \"Fare\", \"Pclass\"],\n",
    "                             consequent = \"Survived\",\n",
    "                             conf=55,\n",
    "                             supp=minsup*100,\n",
    "                             desired_classes = [\"1.0\"],\n",
    "                             is_strict_flexible = False\n",
    "                             )"
   ]
  },
  {
   "cell_type": "code",
   "execution_count": 5,
   "id": "063f1302",
   "metadata": {},
   "outputs": [],
   "source": [
    "# Input\n",
    "stable_attributes = ['Age','Sex']\n",
    "flexible_attributes = [\"Embarked\", \"Fare\", \"Pclass\"]\n",
    "target = 'Survived'\n",
    "wanted_change_in_target = ['0.0', '1.0']\n",
    "min_stable_attributes = 1\n",
    "min_flexible_attributes = 1 #min 1\n",
    "min_unwanted_support = 20\n",
    "min_unwanted_confidence = 0.55 #min 0.5\n",
    "min_wanted_support = 20\n",
    "min_wanted_confidence = 0.55 #min 0.5"
   ]
  },
  {
   "cell_type": "code",
   "execution_count": 6,
   "id": "bbb56e7e",
   "metadata": {},
   "outputs": [
    {
     "name": "stdout",
     "output_type": "stream",
     "text": [
      "672 ms ± 171 ms per loop (mean ± std. dev. of 7 runs, 1 loop each)\n"
     ]
    }
   ],
   "source": [
    "%timeit runPyApriori()"
   ]
  },
  {
   "cell_type": "code",
   "execution_count": 7,
   "id": "612d8553",
   "metadata": {},
   "outputs": [
    {
     "name": "stdout",
     "output_type": "stream",
     "text": [
      "183 ms ± 5.98 ms per loop (mean ± std. dev. of 7 runs, 10 loops each)\n"
     ]
    }
   ],
   "source": [
    "%timeit actionapriori.action_apriori(data, stable_attributes, flexible_attributes, target, wanted_change_in_target, min_stable_attributes , min_flexible_attributes, min_unwanted_support, min_unwanted_confidence, min_wanted_support, min_wanted_confidence)"
   ]
  }
 ],
 "metadata": {
  "kernelspec": {
   "display_name": "Python 3 (ipykernel)",
   "language": "python",
   "name": "python3"
  },
  "language_info": {
   "codemirror_mode": {
    "name": "ipython",
    "version": 3
   },
   "file_extension": ".py",
   "mimetype": "text/x-python",
   "name": "python",
   "nbconvert_exporter": "python",
   "pygments_lexer": "ipython3",
   "version": "3.9.7"
  }
 },
 "nbformat": 4,
 "nbformat_minor": 5
}
