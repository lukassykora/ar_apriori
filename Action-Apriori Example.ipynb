{
 "cells": [
  {
   "cell_type": "markdown",
   "id": "5288fdf4",
   "metadata": {},
   "source": [
    "# Simplified Titanic Example"
   ]
  },
  {
   "cell_type": "markdown",
   "id": "a7eb2b5d",
   "metadata": {},
   "source": [
    "## Data"
   ]
  },
  {
   "cell_type": "code",
   "execution_count": 1,
   "id": "ca507cad",
   "metadata": {},
   "outputs": [
    {
     "data": {
      "text/html": [
       "<div>\n",
       "<style scoped>\n",
       "    .dataframe tbody tr th:only-of-type {\n",
       "        vertical-align: middle;\n",
       "    }\n",
       "\n",
       "    .dataframe tbody tr th {\n",
       "        vertical-align: top;\n",
       "    }\n",
       "\n",
       "    .dataframe thead th {\n",
       "        text-align: right;\n",
       "    }\n",
       "</style>\n",
       "<table border=\"1\" class=\"dataframe\">\n",
       "  <thead>\n",
       "    <tr style=\"text-align: right;\">\n",
       "      <th></th>\n",
       "      <th>Sex</th>\n",
       "      <th>Age</th>\n",
       "      <th>Class</th>\n",
       "      <th>Embarked</th>\n",
       "      <th>Survived</th>\n",
       "    </tr>\n",
       "  </thead>\n",
       "  <tbody>\n",
       "    <tr>\n",
       "      <th>0</th>\n",
       "      <td>M</td>\n",
       "      <td>Y</td>\n",
       "      <td>1</td>\n",
       "      <td>S</td>\n",
       "      <td>1</td>\n",
       "    </tr>\n",
       "    <tr>\n",
       "      <th>1</th>\n",
       "      <td>F</td>\n",
       "      <td>Y</td>\n",
       "      <td>1</td>\n",
       "      <td>C</td>\n",
       "      <td>1</td>\n",
       "    </tr>\n",
       "    <tr>\n",
       "      <th>2</th>\n",
       "      <td>M</td>\n",
       "      <td>O</td>\n",
       "      <td>2</td>\n",
       "      <td>S</td>\n",
       "      <td>0</td>\n",
       "    </tr>\n",
       "    <tr>\n",
       "      <th>3</th>\n",
       "      <td>M</td>\n",
       "      <td>Y</td>\n",
       "      <td>2</td>\n",
       "      <td>C</td>\n",
       "      <td>0</td>\n",
       "    </tr>\n",
       "    <tr>\n",
       "      <th>4</th>\n",
       "      <td>F</td>\n",
       "      <td>Y</td>\n",
       "      <td>1</td>\n",
       "      <td>S</td>\n",
       "      <td>1</td>\n",
       "    </tr>\n",
       "    <tr>\n",
       "      <th>5</th>\n",
       "      <td>M</td>\n",
       "      <td>O</td>\n",
       "      <td>1</td>\n",
       "      <td>C</td>\n",
       "      <td>1</td>\n",
       "    </tr>\n",
       "    <tr>\n",
       "      <th>6</th>\n",
       "      <td>F</td>\n",
       "      <td>Y</td>\n",
       "      <td>2</td>\n",
       "      <td>C</td>\n",
       "      <td>0</td>\n",
       "    </tr>\n",
       "  </tbody>\n",
       "</table>\n",
       "</div>"
      ],
      "text/plain": [
       "  Sex Age  Class Embarked  Survived\n",
       "0   M   Y      1        S         1\n",
       "1   F   Y      1        C         1\n",
       "2   M   O      2        S         0\n",
       "3   M   Y      2        C         0\n",
       "4   F   Y      1        S         1\n",
       "5   M   O      1        C         1\n",
       "6   F   Y      2        C         0"
      ]
     },
     "execution_count": 1,
     "metadata": {},
     "output_type": "execute_result"
    }
   ],
   "source": [
    "import pandas as pd\n",
    "transactions = {'Sex': ['M', 'F', 'M', 'M', 'F', 'M', 'F'], \n",
    "                'Age': ['Y', 'Y', 'O', 'Y', 'Y', 'O', 'Y'],\n",
    "                'Class': [1, 1, 2, 2, 1, 1, 2],\n",
    "                'Embarked': ['S', 'C', 'S', 'C', 'S', 'C', 'C'],\n",
    "                'Survived': [1, 1, 0, 0, 1, 1, 0],\n",
    "               }\n",
    "data = pd.DataFrame.from_dict(transactions)\n",
    "data"
   ]
  },
  {
   "cell_type": "markdown",
   "id": "5e8bef21",
   "metadata": {},
   "source": [
    "## Input parameters"
   ]
  },
  {
   "cell_type": "code",
   "execution_count": 2,
   "id": "14cab188",
   "metadata": {},
   "outputs": [],
   "source": [
    "stable_attributes = ['Sex','Age']\n",
    "flexible_attributes = ['Class','Embarked']\n",
    "target = 'Survived'\n",
    "desired_change_in_target = [0, 1]\n",
    "min_stable_attributes = 2\n",
    "min_flexible_attributes = 1 #min 1\n",
    "min_undesired_support = 1\n",
    "min_undesired_confidence = 0.5 #min 0.5\n",
    "min_desired_support = 2\n",
    "min_desired_confidence = 0.5 #min 0.5"
   ]
  },
  {
   "cell_type": "markdown",
   "id": "79511c50",
   "metadata": {},
   "source": [
    "## Action-Apriori"
   ]
  },
  {
   "cell_type": "code",
   "execution_count": 3,
   "id": "58a57175",
   "metadata": {},
   "outputs": [],
   "source": [
    "import actionapriori"
   ]
  },
  {
   "cell_type": "markdown",
   "id": "67bd327e",
   "metadata": {},
   "source": [
    "Run the action-apriori with verbose=true shows itemsets, where the support is counted"
   ]
  },
  {
   "cell_type": "code",
   "execution_count": 4,
   "id": "8b1d9392",
   "metadata": {},
   "outputs": [
    {
     "name": "stdout",
     "output_type": "stream",
     "text": [
      "SUPPORT\n",
      "('Sex_<item>_F',)\n",
      "(1, 2)\n",
      "SUPPORT\n",
      "('Sex_<item>_M',)\n",
      "(2, 2)\n",
      "SUPPORT\n",
      "('Sex_<item>_F', 'Age_<item>_O')\n",
      "(0, 0)\n",
      "SUPPORT\n",
      "('Sex_<item>_F', 'Age_<item>_Y')\n",
      "(1, 2)\n",
      "SUPPORT\n",
      "('Sex_<item>_M', 'Age_<item>_O')\n",
      "(1, 1)\n",
      "SUPPORT\n",
      "('Sex_<item>_M', 'Age_<item>_Y')\n",
      "(1, 1)\n",
      "SUPPORT\n",
      "('Sex_<item>_F', 'Age_<item>_Y', 'Class_<item>_1')\n",
      "(0, 2)\n",
      "SUPPORT\n",
      "('Sex_<item>_F', 'Age_<item>_Y', 'Class_<item>_2')\n",
      "(1, 0)\n",
      "SUPPORT\n",
      "('Sex_<item>_F', 'Age_<item>_Y', 'Embarked_<item>_C')\n",
      "(1, 1)\n",
      "SUPPORT\n",
      "('Sex_<item>_F', 'Age_<item>_Y', 'Embarked_<item>_S')\n",
      "(0, 1)\n"
     ]
    }
   ],
   "source": [
    "action_rules = actionapriori.action_apriori(data, stable_attributes, flexible_attributes, target, desired_change_in_target, min_stable_attributes , min_flexible_attributes, min_undesired_support, min_undesired_confidence, min_desired_support, min_desired_confidence, True)"
   ]
  },
  {
   "cell_type": "markdown",
   "id": "1d64d5a9",
   "metadata": {},
   "source": [
    "## Action Rules"
   ]
  },
  {
   "cell_type": "markdown",
   "id": "c95a3fa8",
   "metadata": {},
   "source": [
    "### Machine Representation"
   ]
  },
  {
   "cell_type": "code",
   "execution_count": 5,
   "id": "7c1555d2",
   "metadata": {},
   "outputs": [
    {
     "name": "stdout",
     "output_type": "stream",
     "text": [
      "{'undesired': {'itemset': ('Sex_<item>_F', 'Age_<item>_Y', 'Class_<item>_2'), 'support': 1, 'confidence': 1.0, 'target': 0}, 'desired': {'itemset': ('Sex_<item>_F', 'Age_<item>_Y', 'Class_<item>_1'), 'support': 2, 'confidence': 1.0, 'target': 1}}\n"
     ]
    }
   ],
   "source": [
    "for action_rule in action_rules:\n",
    "    print(action_rule)"
   ]
  },
  {
   "cell_type": "markdown",
   "id": "03273a20",
   "metadata": {},
   "source": [
    "### Action Rules Notation"
   ]
  },
  {
   "cell_type": "code",
   "execution_count": 6,
   "id": "3e77e0d2",
   "metadata": {},
   "outputs": [
    {
     "name": "stdout",
     "output_type": "stream",
     "text": [
      "[(Sex: F) ∧ (Age: Y) ∧ (Class: 2 → 1)] ⇒ [Survived: 0 → 1], support of undesired part: 1, confidence of undesired part: 1.0, support of desired part: 2, confidence of desired part: 1.0\n"
     ]
    }
   ],
   "source": [
    "for action_rule in action_rules:\n",
    "    print(actionapriori.get_ar_notation(action_rule, target))"
   ]
  },
  {
   "cell_type": "code",
   "execution_count": null,
   "id": "aab132da",
   "metadata": {},
   "outputs": [],
   "source": []
  },
  {
   "cell_type": "code",
   "execution_count": null,
   "id": "d8af08a3",
   "metadata": {},
   "outputs": [],
   "source": []
  }
 ],
 "metadata": {
  "kernelspec": {
   "display_name": "Python 3 (ipykernel)",
   "language": "python",
   "name": "python3"
  },
  "language_info": {
   "codemirror_mode": {
    "name": "ipython",
    "version": 3
   },
   "file_extension": ".py",
   "mimetype": "text/x-python",
   "name": "python",
   "nbconvert_exporter": "python",
   "pygments_lexer": "ipython3",
   "version": "3.9.18"
  }
 },
 "nbformat": 4,
 "nbformat_minor": 5
}
