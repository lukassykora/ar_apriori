{
 "cells": [
  {
   "cell_type": "markdown",
   "id": "202c0d01",
   "metadata": {},
   "source": [
    "# APRIORI for Action Rules"
   ]
  },
  {
   "cell_type": "markdown",
   "id": "4ba22daf",
   "metadata": {},
   "source": [
    "### Data"
   ]
  },
  {
   "cell_type": "code",
   "execution_count": 1,
   "id": "8c788415",
   "metadata": {},
   "outputs": [
    {
     "data": {
      "text/html": [
       "<div>\n",
       "<style scoped>\n",
       "    .dataframe tbody tr th:only-of-type {\n",
       "        vertical-align: middle;\n",
       "    }\n",
       "\n",
       "    .dataframe tbody tr th {\n",
       "        vertical-align: top;\n",
       "    }\n",
       "\n",
       "    .dataframe thead th {\n",
       "        text-align: right;\n",
       "    }\n",
       "</style>\n",
       "<table border=\"1\" class=\"dataframe\">\n",
       "  <thead>\n",
       "    <tr style=\"text-align: right;\">\n",
       "      <th></th>\n",
       "      <th>Sex</th>\n",
       "      <th>Age</th>\n",
       "      <th>Class</th>\n",
       "      <th>Embarked</th>\n",
       "      <th>Survived</th>\n",
       "    </tr>\n",
       "  </thead>\n",
       "  <tbody>\n",
       "    <tr>\n",
       "      <th>0</th>\n",
       "      <td>M</td>\n",
       "      <td>Y</td>\n",
       "      <td>1</td>\n",
       "      <td>S</td>\n",
       "      <td>1</td>\n",
       "    </tr>\n",
       "    <tr>\n",
       "      <th>1</th>\n",
       "      <td>F</td>\n",
       "      <td>Y</td>\n",
       "      <td>1</td>\n",
       "      <td>C</td>\n",
       "      <td>1</td>\n",
       "    </tr>\n",
       "    <tr>\n",
       "      <th>2</th>\n",
       "      <td>M</td>\n",
       "      <td>O</td>\n",
       "      <td>2</td>\n",
       "      <td>S</td>\n",
       "      <td>0</td>\n",
       "    </tr>\n",
       "    <tr>\n",
       "      <th>3</th>\n",
       "      <td>M</td>\n",
       "      <td>Y</td>\n",
       "      <td>2</td>\n",
       "      <td>C</td>\n",
       "      <td>0</td>\n",
       "    </tr>\n",
       "    <tr>\n",
       "      <th>4</th>\n",
       "      <td>F</td>\n",
       "      <td>Y</td>\n",
       "      <td>1</td>\n",
       "      <td>S</td>\n",
       "      <td>1</td>\n",
       "    </tr>\n",
       "    <tr>\n",
       "      <th>5</th>\n",
       "      <td>M</td>\n",
       "      <td>O</td>\n",
       "      <td>1</td>\n",
       "      <td>C</td>\n",
       "      <td>1</td>\n",
       "    </tr>\n",
       "    <tr>\n",
       "      <th>6</th>\n",
       "      <td>F</td>\n",
       "      <td>Y</td>\n",
       "      <td>2</td>\n",
       "      <td>C</td>\n",
       "      <td>0</td>\n",
       "    </tr>\n",
       "  </tbody>\n",
       "</table>\n",
       "</div>"
      ],
      "text/plain": [
       "  Sex Age  Class Embarked  Survived\n",
       "0   M   Y      1        S         1\n",
       "1   F   Y      1        C         1\n",
       "2   M   O      2        S         0\n",
       "3   M   Y      2        C         0\n",
       "4   F   Y      1        S         1\n",
       "5   M   O      1        C         1\n",
       "6   F   Y      2        C         0"
      ]
     },
     "execution_count": 1,
     "metadata": {},
     "output_type": "execute_result"
    }
   ],
   "source": [
    "import pandas as pd\n",
    "transactions = {'Sex': ['M', 'F', 'M', 'M', 'F', 'M', 'F'], \n",
    "                'Age': ['Y', 'Y', 'O', 'Y', 'Y', 'O', 'Y'],\n",
    "                'Class': [1, 1, 2, 2, 1, 1, 2],\n",
    "                'Embarked': ['S', 'C', 'S', 'C', 'S', 'C', 'C'],\n",
    "                'Survived': [1, 1, 0, 0, 1, 1, 0],\n",
    "               }\n",
    "data = pd.DataFrame.from_dict(transactions)\n",
    "data"
   ]
  },
  {
   "cell_type": "markdown",
   "id": "8a9688f0",
   "metadata": {},
   "source": [
    "One Hot Encoding"
   ]
  },
  {
   "cell_type": "raw",
   "id": "51934e8b",
   "metadata": {},
   "source": [
    "#data = pd.get_dummies(data, sparse=True, columns=data.columns, prefix_sep='_<item>_')\n",
    "data = pd.get_dummies(data, sparse=False, columns=data.columns, prefix_sep='_<item>_')\n",
    "data"
   ]
  },
  {
   "cell_type": "markdown",
   "id": "34186c2b",
   "metadata": {},
   "source": [
    "### Input parameters"
   ]
  },
  {
   "cell_type": "code",
   "execution_count": 2,
   "id": "2f3fa167",
   "metadata": {},
   "outputs": [],
   "source": [
    "stable_attributes = ['Sex','Age']\n",
    "flexible_attributes = ['Class','Embarked']\n",
    "target = 'Survived'\n",
    "wanted_change_in_target = [0, 1]\n",
    "min_stable_attributes = 2\n",
    "min_flexible_attributes = 1 #min 1\n",
    "min_unwanted_support = 1\n",
    "min_unwanted_confidence = 0.5 #min 0.5\n",
    "min_wanted_support = 2\n",
    "min_wanted_confidence = 0.5 #min 0.5"
   ]
  },
  {
   "cell_type": "markdown",
   "id": "98cae22b",
   "metadata": {},
   "source": [
    "### Bindings\n",
    "Bind item columns with attributes"
   ]
  },
  {
   "cell_type": "raw",
   "id": "3bbddd34",
   "metadata": {},
   "source": [
    "from collections import defaultdict\n",
    "\n",
    "stable_items_binding = defaultdict(lambda: [])\n",
    "flexible_items_binding = defaultdict(lambda: [])\n",
    "target_items_binding = defaultdict(lambda: [])\n",
    "\n",
    "for col in data.columns:\n",
    "    is_continue = False\n",
    "    # stable\n",
    "    for attribute in stable_attributes:\n",
    "        if col.startswith(attribute+'_<item>_'):\n",
    "            stable_items_binding[attribute].append(col)\n",
    "            is_continue = True\n",
    "            break\n",
    "    if is_continue is True:\n",
    "        continue\n",
    "    # flexible    \n",
    "    for attribute in flexible_attributes:\n",
    "        if col.startswith(attribute+'_<item>_'):\n",
    "            flexible_items_binding[attribute].append(col)\n",
    "            is_continue = True\n",
    "            break\n",
    "    if is_continue is True:\n",
    "        continue\n",
    "    # target    \n",
    "    if col.startswith(target+'_<item>_'):\n",
    "        target_items_binding[target].append(col)      "
   ]
  },
  {
   "cell_type": "raw",
   "id": "75ac8f03",
   "metadata": {},
   "source": [
    "stable_items_binding  "
   ]
  },
  {
   "cell_type": "raw",
   "id": "5ceb956c",
   "metadata": {},
   "source": [
    "flexible_items_binding "
   ]
  },
  {
   "cell_type": "raw",
   "id": "600244cf",
   "metadata": {},
   "source": [
    "target_items_binding "
   ]
  },
  {
   "cell_type": "markdown",
   "id": "7099b4ef",
   "metadata": {},
   "source": [
    "### Stop List\n",
    "The items from the same attribute can not be in the same itemset"
   ]
  },
  {
   "cell_type": "raw",
   "id": "c4103fc1",
   "metadata": {},
   "source": [
    "import itertools\n",
    "stop_list = []\n",
    "for items in stable_items_binding.values():\n",
    "    for stop_couple in itertools.product(items, repeat=2):\n",
    "        stop_list.append(tuple(stop_couple))\n",
    "for item in flexible_items_binding.keys():\n",
    "    stop_list.append(tuple([item, item]))"
   ]
  },
  {
   "cell_type": "raw",
   "id": "f7144791",
   "metadata": {},
   "source": [
    "stop_list"
   ]
  },
  {
   "cell_type": "markdown",
   "id": "e1f71e66",
   "metadata": {},
   "source": [
    "### Split table\n",
    "Split based on the target"
   ]
  },
  {
   "cell_type": "raw",
   "id": "e68cf8ac",
   "metadata": {},
   "source": [
    "frames = {}\n",
    "for item in target_items_binding[target]:\n",
    "    mask = data[item]==1\n",
    "    frames[item] = data[mask]\n",
    "frames"
   ]
  },
  {
   "cell_type": "markdown",
   "id": "9becf339",
   "metadata": {},
   "source": [
    "### Target States"
   ]
  },
  {
   "cell_type": "raw",
   "id": "be5b80ee",
   "metadata": {},
   "source": [
    "unwanted_state = target + '_<item>_' + str(wanted_change_in_target[0])\n",
    "wanted_state = target + '_<item>_' + str(wanted_change_in_target[1])"
   ]
  },
  {
   "cell_type": "raw",
   "id": "e077169b",
   "metadata": {},
   "source": [
    "unwanted_state"
   ]
  },
  {
   "cell_type": "raw",
   "id": "c28d47e8",
   "metadata": {},
   "source": [
    "wanted_state"
   ]
  },
  {
   "cell_type": "markdown",
   "id": "5f3e7662",
   "metadata": {},
   "source": [
    "# APRIORI\n",
    "### Generates candidates\n",
    "Generates canidates and also mines classification rules"
   ]
  },
  {
   "cell_type": "code",
   "execution_count": 3,
   "id": "e13d71c3",
   "metadata": {},
   "outputs": [],
   "source": [
    "def reduce_candidates_min_attributes(K, actionable_attributes, stable_items_binding, min_stable_attributes, flexible_items_binding, min_flexible_attributes):\n",
    "    #Reduce by min stable and flexible\n",
    "    number_of_stable_attributes = len(stable_items_binding) - (min_stable_attributes - K)\n",
    "    if K > min_stable_attributes:\n",
    "        number_of_flexible_attributes = len(flexible_items_binding) - (min_flexible_attributes - actionable_attributes - 1)\n",
    "    else:\n",
    "        number_of_flexible_attributes = 0\n",
    "    reduced_stable_items_binding = {k: stable_items_binding[k] for k in list(stable_items_binding.keys())[:number_of_stable_attributes]}\n",
    "    reduced_flexible_items_binding = {k: flexible_items_binding[k] for k in list(flexible_items_binding.keys())[:number_of_flexible_attributes]}\n",
    "    return reduced_stable_items_binding, reduced_flexible_items_binding"
   ]
  },
  {
   "cell_type": "raw",
   "id": "15c844a2",
   "metadata": {},
   "source": [
    "_stable_items_binding = {'Sex': ['yes', 'no', 'maybe'], 'Age': ['young', 'old']}\n",
    "_flexible_items_binding = {'Emb': ['S', 'C', 'P'], 'Class': ['1', '2']}\n",
    "_min_stable_attributes = 0\n",
    "_min_flexible_attributes = 2\n",
    "_K = 1\n",
    "_actionable_attributes = 0\n",
    "reduce_candidates_min_attributes(_K, _actionable_attributes, _stable_items_binding, _min_stable_attributes, _flexible_items_binding, _min_flexible_attributes)"
   ]
  },
  {
   "cell_type": "code",
   "execution_count": 4,
   "id": "e5f71ebf",
   "metadata": {},
   "outputs": [],
   "source": [
    "def in_stop_list(ar_prefix, stop_list):\n",
    "    if ar_prefix[-2:] in stop_list:\n",
    "        return True\n",
    "    if ar_prefix[1:] in stop_list:\n",
    "        stop_list.append(ar_prefix)\n",
    "        return True\n",
    "    return False"
   ]
  },
  {
   "cell_type": "raw",
   "id": "ac2b288e",
   "metadata": {},
   "source": [
    "in_stop_list(('Class', 'Class'),stop_list)"
   ]
  },
  {
   "cell_type": "raw",
   "id": "845bd70b",
   "metadata": {},
   "source": [
    "in_stop_list(('Old', 'Class'),stop_list)"
   ]
  },
  {
   "cell_type": "code",
   "execution_count": 5,
   "id": "c53dad66",
   "metadata": {},
   "outputs": [],
   "source": [
    "import itertools\n",
    "import copy\n",
    "from collections import defaultdict    \n",
    "\n",
    "def generate_candidates(ar_prefix, itemset_prefix, stable_items_binding, flexible_items_binding, unwanted_mask, wanted_mask, actionable_attributes=0, item=0, stop_list=[], frames=None, unwanted_state=0, wanted_state=1, stop_list_itemset=[], classification_rules=[], verbose=False):\n",
    "    K = len(itemset_prefix) + 1\n",
    "    reduced_stable_items_binding, reduced_flexible_items_binding = reduce_candidates_min_attributes(K, actionable_attributes, stable_items_binding, min_stable_attributes, flexible_items_binding, min_flexible_attributes)\n",
    "    \n",
    "    if unwanted_mask is None:\n",
    "        unwanted_frame = frames[unwanted_state]\n",
    "        wanted_frame = frames[wanted_state]\n",
    "    else:\n",
    "        unwanted_frame = frames[unwanted_state].multiply(unwanted_mask, axis=\"index\")\n",
    "        wanted_frame = frames[wanted_state].multiply(wanted_mask, axis=\"index\")\n",
    "    \n",
    "    stable_candidates = copy.deepcopy(stable_items_binding)\n",
    "    flexible_candidates = copy.deepcopy(flexible_items_binding)\n",
    "    \n",
    "    new_branches = []\n",
    "    \n",
    "    for attribute, items in reduced_stable_items_binding.items():\n",
    "        for item in items:\n",
    "            \n",
    "            new_ar_prefix = ar_prefix + (item, )\n",
    "            if in_stop_list(new_ar_prefix, stop_list):\n",
    "                continue\n",
    "            \n",
    "            unwanted_support = unwanted_frame[item].sum()\n",
    "            wanted_support = wanted_frame[item].sum()\n",
    "            \n",
    "            if verbose:\n",
    "                print('SUPPORT')\n",
    "                print(itemset_prefix + (item, ))\n",
    "                print((unwanted_support, wanted_support))\n",
    "            \n",
    "            if unwanted_support < min_unwanted_support or wanted_support < min_wanted_support:\n",
    "                stable_candidates[attribute].remove(item)\n",
    "                stop_list.append(new_ar_prefix)\n",
    "            else:\n",
    "                new_branches.append({'ar_prefix': new_ar_prefix,\n",
    "                                   'itemset_prefix': new_ar_prefix, # Start be different for flexible\n",
    "                                   'item': item,  \n",
    "                                   'unwanted_mask': unwanted_frame[item],\n",
    "                                   'wanted_mask': wanted_frame[item],\n",
    "                                   'actionable_attributes': 0,\n",
    "                                  })\n",
    "                 \n",
    "    for attribute, items in reduced_flexible_items_binding.items():\n",
    "        \n",
    "        new_ar_prefix = ar_prefix + (attribute, )\n",
    "        if in_stop_list(new_ar_prefix, stop_list):\n",
    "            continue\n",
    "            \n",
    "        unwanted_states = []\n",
    "        wanted_states = []\n",
    "        unwanted_count = 0\n",
    "        wanted_count = 0\n",
    "        for item in items:\n",
    "            \n",
    "            if in_stop_list(itemset_prefix + (item,), stop_list_itemset):\n",
    "                continue\n",
    "            \n",
    "            unwanted_support = unwanted_frame[item].sum()\n",
    "            wanted_support = wanted_frame[item].sum()\n",
    "            \n",
    "            if verbose:\n",
    "                print('SUPPORT')\n",
    "                print(itemset_prefix + (item,))\n",
    "                print((unwanted_support, wanted_support))\n",
    "\n",
    "            # is unwanted\n",
    "            if wanted_support + unwanted_support == 0:\n",
    "                unwanted_conf = 0\n",
    "            else:\n",
    "                unwanted_conf = unwanted_support/(wanted_support + unwanted_support)\n",
    "            if unwanted_support >= min_unwanted_support: # and unwanted_conf >= min_unwanted_confidence:\n",
    "                unwanted_count += 1\n",
    "                if unwanted_conf >= min_unwanted_confidence:\n",
    "                    unwanted_states.append({'item': item, 'support': unwanted_support, 'confidence':unwanted_conf})\n",
    "            # is wanted\n",
    "            if wanted_support + unwanted_support == 0:\n",
    "                wanted_conf = 0\n",
    "            else:\n",
    "                wanted_conf = wanted_support/(wanted_support + unwanted_support) \n",
    "            if wanted_support >= min_wanted_support: # and wanted_conf >= min_wanted_confidence:\n",
    "                wanted_count += 1\n",
    "                if wanted_conf >= min_wanted_confidence:\n",
    "                    wanted_states.append({'item': item, 'support': wanted_support, 'confidence': wanted_conf})         \n",
    "            if wanted_support < min_wanted_support and unwanted_support < min_unwanted_support:\n",
    "                flexible_candidates[attribute].remove(item)\n",
    "                stop_list_itemset.append(itemset_prefix + (item,))\n",
    "                \n",
    "        if actionable_attributes == 0 and (unwanted_count == 0 or wanted_count == 0): # just for first flexible level\n",
    "            del flexible_candidates[attribute]\n",
    "            stop_list.append(ar_prefix + (attribute, ))  \n",
    "        else:\n",
    "            for item in items: \n",
    "                new_branches.append({'ar_prefix': new_ar_prefix,\n",
    "                                   'itemset_prefix': itemset_prefix + (item,),\n",
    "                                   'item': item,\n",
    "                                   'unwanted_mask': unwanted_frame[item],\n",
    "                                   'wanted_mask': wanted_frame[item],\n",
    "                                   'actionable_attributes': actionable_attributes + 1,\n",
    "                                  })\n",
    "                \n",
    "            if actionable_attributes + 1 >= min_flexible_attributes:\n",
    "                for unwanted_item in unwanted_states:\n",
    "                    new_itemset_prefix = itemset_prefix + (unwanted_item['item'], )\n",
    "                    classification_rules[new_ar_prefix]['unwanted'].append({\n",
    "                                         'itemset': new_itemset_prefix,  \n",
    "                                         'support': unwanted_item['support'],\n",
    "                                         'confidence': unwanted_item['confidence'],\n",
    "                                         'target': wanted_change_in_target[0]\n",
    "                                        })\n",
    "                for wanted_item in wanted_states:\n",
    "                    new_itemset_prefix = itemset_prefix + (wanted_item['item'], )\n",
    "                    classification_rules[new_ar_prefix]['wanted'].append({\n",
    "                                         'itemset':new_itemset_prefix, \n",
    "                                         'support': wanted_item['support'],\n",
    "                                         'confidence': wanted_item['confidence'],\n",
    "                                         'target': wanted_change_in_target[1]\n",
    "                                        })\n",
    "    \n",
    "    for new_branch in new_branches:\n",
    "        adding = False\n",
    "        new_stable = {}\n",
    "        new_flexible = {}\n",
    "        \n",
    "        for attribute, items in stable_candidates.items():\n",
    "            for item in items:\n",
    "                if adding:\n",
    "                    if attribute not in new_stable:\n",
    "                        new_stable[attribute] = []\n",
    "                    new_stable[attribute].append(item)\n",
    "                if item == new_branch['item']:\n",
    "                    adding = True\n",
    "                \n",
    "                    \n",
    "                    \n",
    "        for attribute, items in flexible_candidates.items():\n",
    "            for item in items:\n",
    "                if adding:\n",
    "                    if attribute not in new_flexible:\n",
    "                        new_flexible[attribute] = []\n",
    "                    new_flexible[attribute].append(item)\n",
    "                if item == new_branch['item']:\n",
    "                    adding = True\n",
    "                \n",
    "        new_branch['stable_items_binding'] = new_stable\n",
    "        new_branch['flexible_items_binding'] = new_flexible\n",
    "        \n",
    "    return new_branches\n",
    "\n"
   ]
  },
  {
   "cell_type": "markdown",
   "id": "3769ebf5",
   "metadata": {},
   "source": [
    "### Generates Action Rules"
   ]
  },
  {
   "cell_type": "code",
   "execution_count": 6,
   "id": "e33061ab",
   "metadata": {},
   "outputs": [],
   "source": [
    "def generate_action_rules(classification_rules, action_rules):\n",
    "    for attribute_prefix, rules in classification_rules.items():            \n",
    "        for wanted_rule in rules['wanted']:\n",
    "            for unwanted_rule in rules['unwanted']:\n",
    "                action_rules.append({'unwanted': unwanted_rule, 'wanted': wanted_rule})"
   ]
  },
  {
   "cell_type": "markdown",
   "id": "3f03d4e1",
   "metadata": {},
   "source": [
    "# Prune tree"
   ]
  },
  {
   "cell_type": "code",
   "execution_count": 7,
   "id": "8af23307",
   "metadata": {},
   "outputs": [],
   "source": [
    "def prune_tree(K, classification_rules, stop_list):\n",
    "    for attribute_prefix, rules in classification_rules.items():\n",
    "        if K == len(attribute_prefix):\n",
    "            if len(rules['wanted']) < 0 or len(rules['unwanted']) < 0:\n",
    "                stop_list.append(attribute_prefix)    \n",
    "                del classification_rules[attribute_prefix]"
   ]
  },
  {
   "cell_type": "markdown",
   "id": "0c927b1b",
   "metadata": {},
   "source": [
    "## Get Bindings"
   ]
  },
  {
   "cell_type": "code",
   "execution_count": 8,
   "id": "322ac2f6",
   "metadata": {},
   "outputs": [],
   "source": [
    "from collections import defaultdict\n",
    "\n",
    "def get_bindings(data):\n",
    "    stable_items_binding = defaultdict(lambda: [])\n",
    "    flexible_items_binding = defaultdict(lambda: [])\n",
    "    target_items_binding = defaultdict(lambda: [])\n",
    "\n",
    "    for col in data.columns:\n",
    "        is_continue = False\n",
    "        # stable\n",
    "        for attribute in stable_attributes:\n",
    "            if col.startswith(attribute+'_<item>_'):\n",
    "                stable_items_binding[attribute].append(col)\n",
    "                is_continue = True\n",
    "                break\n",
    "        if is_continue is True:\n",
    "            continue\n",
    "        # flexible    \n",
    "        for attribute in flexible_attributes:\n",
    "            if col.startswith(attribute+'_<item>_'):\n",
    "                flexible_items_binding[attribute].append(col)\n",
    "                is_continue = True\n",
    "                break\n",
    "        if is_continue is True:\n",
    "            continue\n",
    "        # target    \n",
    "        if col.startswith(target+'_<item>_'):\n",
    "            target_items_binding[target].append(col) \n",
    "    return stable_items_binding, flexible_items_binding, target_items_binding"
   ]
  },
  {
   "cell_type": "markdown",
   "id": "f3205dfe",
   "metadata": {},
   "source": [
    "## Create Stop List"
   ]
  },
  {
   "cell_type": "code",
   "execution_count": 9,
   "id": "c6c407bd",
   "metadata": {},
   "outputs": [],
   "source": [
    "import itertools\n",
    "def get_stop_list(stable_items_binding, flexible_items_binding):\n",
    "    stop_list = []\n",
    "    for items in stable_items_binding.values():\n",
    "        for stop_couple in itertools.product(items, repeat=2):\n",
    "            stop_list.append(tuple(stop_couple))\n",
    "    for item in flexible_items_binding.keys():\n",
    "        stop_list.append(tuple([item, item]))\n",
    "    return stop_list"
   ]
  },
  {
   "cell_type": "markdown",
   "id": "8f767446",
   "metadata": {},
   "source": [
    "## Split table"
   ]
  },
  {
   "cell_type": "code",
   "execution_count": 10,
   "id": "0d4f8d9d",
   "metadata": {},
   "outputs": [],
   "source": [
    "def get_split_tables(data, target_items_binding):\n",
    "    frames = {}\n",
    "    for item in target_items_binding[target]:\n",
    "        mask = data[item]==1\n",
    "        frames[item] = data[mask]\n",
    "    return frames"
   ]
  },
  {
   "cell_type": "markdown",
   "id": "92d28eb8",
   "metadata": {},
   "source": [
    "### Apriori iterations"
   ]
  },
  {
   "cell_type": "code",
   "execution_count": 11,
   "id": "f723be51",
   "metadata": {},
   "outputs": [],
   "source": [
    "\n",
    "def ar_apriori(data, stable_attributes, flexible_attributes, target, wanted_change_in_target, min_stable_attributes , min_flexible_attributes, min_unwanted_support, min_unwanted_confidence, min_wanted_support, min_wanted_confidence, verbose=False):\n",
    "    data = pd.get_dummies(data, sparse=False, columns=data.columns, prefix_sep='_<item>_')\n",
    "    stable_items_binding, flexible_items_binding, target_items_binding = get_bindings(data)\n",
    "    stop_list = get_stop_list(stable_items_binding, flexible_items_binding)\n",
    "    frames = get_split_tables(data, target_items_binding)\n",
    "    unwanted_state = target + '_<item>_' + str(wanted_change_in_target[0])\n",
    "    wanted_state = target + '_<item>_' + str(wanted_change_in_target[1])\n",
    "    action_rules = []\n",
    "    classification_rules = defaultdict(lambda: {'wanted': [], 'unwanted': []})\n",
    "    stop_list_itemset = []\n",
    "    \n",
    "    candidates_queue = [{\n",
    "                         'ar_prefix': tuple(),\n",
    "                         'itemset_prefix':tuple(), \n",
    "                         'stable_items_binding': stable_items_binding, \n",
    "                         'flexible_items_binding': flexible_items_binding,\n",
    "                         'unwanted_mask': None,\n",
    "                         'wanted_mask': None,\n",
    "                         'actionable_attributes':0\n",
    "                        }]\n",
    "    K = 0\n",
    "    while len(candidates_queue)>0:\n",
    "        candidate = candidates_queue.pop(0)\n",
    "        if len(candidate['ar_prefix']) > K:\n",
    "            K+=1\n",
    "            prune_tree(K, classification_rules, stop_list)\n",
    "        new_candidates = generate_candidates(**candidate, stop_list=stop_list, frames=frames, unwanted_state=unwanted_state, wanted_state=wanted_state, stop_list_itemset=stop_list_itemset, classification_rules=classification_rules, verbose=verbose)\n",
    "        candidates_queue += new_candidates\n",
    "    generate_action_rules(classification_rules, action_rules)\n",
    "    return action_rules"
   ]
  },
  {
   "cell_type": "code",
   "execution_count": 12,
   "id": "4edc267f",
   "metadata": {},
   "outputs": [
    {
     "name": "stdout",
     "output_type": "stream",
     "text": [
      "SUPPORT\n",
      "('Sex_<item>_F',)\n",
      "(1, 2)\n",
      "SUPPORT\n",
      "('Sex_<item>_M',)\n",
      "(2, 2)\n",
      "SUPPORT\n",
      "('Sex_<item>_F', 'Age_<item>_O')\n",
      "(0, 0)\n",
      "SUPPORT\n",
      "('Sex_<item>_F', 'Age_<item>_Y')\n",
      "(1, 2)\n",
      "SUPPORT\n",
      "('Sex_<item>_M', 'Age_<item>_O')\n",
      "(1, 1)\n",
      "SUPPORT\n",
      "('Sex_<item>_M', 'Age_<item>_Y')\n",
      "(1, 1)\n",
      "SUPPORT\n",
      "('Sex_<item>_F', 'Age_<item>_Y', 'Class_<item>_1')\n",
      "(0, 2)\n",
      "SUPPORT\n",
      "('Sex_<item>_F', 'Age_<item>_Y', 'Class_<item>_2')\n",
      "(1, 0)\n",
      "SUPPORT\n",
      "('Sex_<item>_F', 'Age_<item>_Y', 'Embarked_<item>_C')\n",
      "(1, 1)\n",
      "SUPPORT\n",
      "('Sex_<item>_F', 'Age_<item>_Y', 'Embarked_<item>_S')\n",
      "(0, 1)\n"
     ]
    }
   ],
   "source": [
    "action_rules = ar_apriori(data, stable_attributes, flexible_attributes, target, wanted_change_in_target, min_stable_attributes , min_flexible_attributes, min_unwanted_support, min_unwanted_confidence, min_wanted_support, min_wanted_confidence, True)"
   ]
  },
  {
   "cell_type": "markdown",
   "id": "de050e84",
   "metadata": {},
   "source": [
    "### Action rules"
   ]
  },
  {
   "cell_type": "code",
   "execution_count": 13,
   "id": "7553eb57",
   "metadata": {},
   "outputs": [
    {
     "name": "stdout",
     "output_type": "stream",
     "text": [
      "ACTION RULES\n",
      "[{'unwanted': {'itemset': ('Sex_<item>_F', 'Age_<item>_Y', 'Class_<item>_2'), 'support': 1, 'confidence': 1.0, 'target': 0}, 'wanted': {'itemset': ('Sex_<item>_F', 'Age_<item>_Y', 'Class_<item>_1'), 'support': 2, 'confidence': 1.0, 'target': 1}}]\n"
     ]
    }
   ],
   "source": [
    "print('ACTION RULES')\n",
    "print(action_rules)"
   ]
  },
  {
   "cell_type": "code",
   "execution_count": null,
   "id": "d1c7e8c6",
   "metadata": {},
   "outputs": [],
   "source": []
  },
  {
   "cell_type": "markdown",
   "id": "98226eef",
   "metadata": {},
   "source": [
    "# Compare new algorithm with ActionRulesDiscovery package"
   ]
  },
  {
   "cell_type": "code",
   "execution_count": 14,
   "id": "ebd88387",
   "metadata": {},
   "outputs": [
    {
     "data": {
      "text/html": [
       "<div>\n",
       "<style scoped>\n",
       "    .dataframe tbody tr th:only-of-type {\n",
       "        vertical-align: middle;\n",
       "    }\n",
       "\n",
       "    .dataframe tbody tr th {\n",
       "        vertical-align: top;\n",
       "    }\n",
       "\n",
       "    .dataframe thead th {\n",
       "        text-align: right;\n",
       "    }\n",
       "</style>\n",
       "<table border=\"1\" class=\"dataframe\">\n",
       "  <thead>\n",
       "    <tr style=\"text-align: right;\">\n",
       "      <th></th>\n",
       "      <th>ID</th>\n",
       "      <th>Age</th>\n",
       "      <th>Embarked</th>\n",
       "      <th>Fare</th>\n",
       "      <th>Pclass</th>\n",
       "      <th>Sex</th>\n",
       "      <th>Survived</th>\n",
       "    </tr>\n",
       "  </thead>\n",
       "  <tbody>\n",
       "    <tr>\n",
       "      <th>0</th>\n",
       "      <td>1</td>\n",
       "      <td>&lt;16.13336;32.10002)</td>\n",
       "      <td>S</td>\n",
       "      <td>very high</td>\n",
       "      <td>1.0</td>\n",
       "      <td>female</td>\n",
       "      <td>1.0</td>\n",
       "    </tr>\n",
       "    <tr>\n",
       "      <th>1</th>\n",
       "      <td>2</td>\n",
       "      <td>&lt;0.1667;16.13336)</td>\n",
       "      <td>S</td>\n",
       "      <td>very high</td>\n",
       "      <td>1.0</td>\n",
       "      <td>male</td>\n",
       "      <td>1.0</td>\n",
       "    </tr>\n",
       "    <tr>\n",
       "      <th>2</th>\n",
       "      <td>3</td>\n",
       "      <td>&lt;0.1667;16.13336)</td>\n",
       "      <td>S</td>\n",
       "      <td>very high</td>\n",
       "      <td>1.0</td>\n",
       "      <td>female</td>\n",
       "      <td>0.0</td>\n",
       "    </tr>\n",
       "    <tr>\n",
       "      <th>3</th>\n",
       "      <td>4</td>\n",
       "      <td>&lt;16.13336;32.10002)</td>\n",
       "      <td>S</td>\n",
       "      <td>very high</td>\n",
       "      <td>1.0</td>\n",
       "      <td>male</td>\n",
       "      <td>0.0</td>\n",
       "    </tr>\n",
       "    <tr>\n",
       "      <th>4</th>\n",
       "      <td>5</td>\n",
       "      <td>&lt;16.13336;32.10002)</td>\n",
       "      <td>S</td>\n",
       "      <td>very high</td>\n",
       "      <td>1.0</td>\n",
       "      <td>female</td>\n",
       "      <td>0.0</td>\n",
       "    </tr>\n",
       "    <tr>\n",
       "      <th>...</th>\n",
       "      <td>...</td>\n",
       "      <td>...</td>\n",
       "      <td>...</td>\n",
       "      <td>...</td>\n",
       "      <td>...</td>\n",
       "      <td>...</td>\n",
       "      <td>...</td>\n",
       "    </tr>\n",
       "    <tr>\n",
       "      <th>1305</th>\n",
       "      <td>1306</td>\n",
       "      <td>NaN</td>\n",
       "      <td>C</td>\n",
       "      <td>avg</td>\n",
       "      <td>3.0</td>\n",
       "      <td>female</td>\n",
       "      <td>0.0</td>\n",
       "    </tr>\n",
       "    <tr>\n",
       "      <th>1306</th>\n",
       "      <td>1307</td>\n",
       "      <td>&lt;16.13336;32.10002)</td>\n",
       "      <td>C</td>\n",
       "      <td>very low</td>\n",
       "      <td>3.0</td>\n",
       "      <td>male</td>\n",
       "      <td>0.0</td>\n",
       "    </tr>\n",
       "    <tr>\n",
       "      <th>1307</th>\n",
       "      <td>1308</td>\n",
       "      <td>&lt;16.13336;32.10002)</td>\n",
       "      <td>C</td>\n",
       "      <td>very low</td>\n",
       "      <td>3.0</td>\n",
       "      <td>male</td>\n",
       "      <td>0.0</td>\n",
       "    </tr>\n",
       "    <tr>\n",
       "      <th>1308</th>\n",
       "      <td>1309</td>\n",
       "      <td>&lt;16.13336;32.10002)</td>\n",
       "      <td>S</td>\n",
       "      <td>lower</td>\n",
       "      <td>3.0</td>\n",
       "      <td>male</td>\n",
       "      <td>0.0</td>\n",
       "    </tr>\n",
       "    <tr>\n",
       "      <th>1309</th>\n",
       "      <td>1310</td>\n",
       "      <td>NaN</td>\n",
       "      <td>NaN</td>\n",
       "      <td>NaN</td>\n",
       "      <td>NaN</td>\n",
       "      <td>NaN</td>\n",
       "      <td>NaN</td>\n",
       "    </tr>\n",
       "  </tbody>\n",
       "</table>\n",
       "<p>1310 rows × 7 columns</p>\n",
       "</div>"
      ],
      "text/plain": [
       "        ID                  Age Embarked       Fare  Pclass     Sex  Survived\n",
       "0        1  <16.13336;32.10002)        S  very high     1.0  female       1.0\n",
       "1        2    <0.1667;16.13336)        S  very high     1.0    male       1.0\n",
       "2        3    <0.1667;16.13336)        S  very high     1.0  female       0.0\n",
       "3        4  <16.13336;32.10002)        S  very high     1.0    male       0.0\n",
       "4        5  <16.13336;32.10002)        S  very high     1.0  female       0.0\n",
       "...    ...                  ...      ...        ...     ...     ...       ...\n",
       "1305  1306                  NaN        C        avg     3.0  female       0.0\n",
       "1306  1307  <16.13336;32.10002)        C   very low     3.0    male       0.0\n",
       "1307  1308  <16.13336;32.10002)        C   very low     3.0    male       0.0\n",
       "1308  1309  <16.13336;32.10002)        S      lower     3.0    male       0.0\n",
       "1309  1310                  NaN      NaN        NaN     NaN     NaN       NaN\n",
       "\n",
       "[1310 rows x 7 columns]"
      ]
     },
     "execution_count": 14,
     "metadata": {},
     "output_type": "execute_result"
    }
   ],
   "source": [
    "import pandas as pd\n",
    "from actionrules.actionRulesDiscovery import ActionRulesDiscovery\n",
    "dataFrame = pd.read_csv(\"titanic.csv\", sep=\";\")\n",
    "dataFrame"
   ]
  },
  {
   "cell_type": "markdown",
   "id": "35ff81d5",
   "metadata": {},
   "source": [
    "### ActionRulesDiscovery package"
   ]
  },
  {
   "cell_type": "code",
   "execution_count": 15,
   "id": "224c21a6",
   "metadata": {},
   "outputs": [],
   "source": [
    "minsup = 20/len(dataFrame)"
   ]
  },
  {
   "cell_type": "code",
   "execution_count": 16,
   "id": "d52aaf8d",
   "metadata": {},
   "outputs": [],
   "source": [
    "actionRulesDiscovery = ActionRulesDiscovery()\n",
    "actionRulesDiscovery.load_pandas(dataFrame)\n",
    "actionRulesDiscovery.fit(stable_attributes = [\"Age\", \"Sex\"],\n",
    "                         flexible_attributes = [\"Embarked\", \"Fare\", \"Pclass\"],\n",
    "                         consequent = \"Survived\",\n",
    "                         conf=55,\n",
    "                         supp=minsup*100,\n",
    "                         desired_classes = [\"1.0\"],\n",
    "                         is_strict_flexible = False\n",
    "                         )"
   ]
  },
  {
   "cell_type": "code",
   "execution_count": 17,
   "id": "60b64aa0",
   "metadata": {},
   "outputs": [
    {
     "name": "stdout",
     "output_type": "stream",
     "text": [
      "r = [(Age: <16.13336;32.10002)) ∧ (Embarked: s → c) ] ⇒ [Survived: 0.0 → 1.0] with support: 0.04198473282442748, confidence: 0.40990990990991, uplift: 0.08757421543681088.\n",
      " \n",
      "r = [(Age: <16.13336;32.10002)) ∧  (Embarked: s)  ∧ (Pclass: 3.0 → 1.0) ] ⇒ [Survived: 0.0 → 1.0] with support: 0.022137404580152672, confidence: 0.49567993989481596, uplift: 0.07595419847328244.\n",
      " \n",
      "r = [(Age: <16.13336;32.10002)) ∧ (Embarked: s → c)  ∧ (Pclass: 3.0 → 1.0) ] ⇒ [Survived: 0.0 → 1.0] with support: 0.025190839694656488, confidence: 0.5771670190274842, uplift: 0.09597017575004438.\n",
      " \n",
      "r = [(Age: <16.13336;32.10002)) ∧ (Pclass: 3.0 → 1.0) ] ⇒ [Survived: 0.0 → 1.0] with support: 0.04732824427480916, confidence: 0.5261127825349071, uplift: 0.10257085197859087.\n",
      " \n",
      "r = [(Age: <16.13336;32.10002)) ∧  (Embarked: s)  ∧ (Fare: avg → very high) ] ⇒ [Survived: 0.0 → 1.0] with support: 0.021374045801526718, confidence: 0.39999999999999997, uplift: 0.0227917121046892.\n",
      " \n",
      "r = [(Age: <16.13336;32.10002)) ∧ (Embarked: s → c)  ∧ (Fare: avg → very high) ] ⇒ [Survived: 0.0 → 1.0] with support: 0.022900763358778626, confidence: 0.5526315789473684, uplift: 0.04110084371233427.\n",
      " \n",
      "r = [(Age: <16.13336;32.10002)) ∧ (Fare: avg → very high) ] ⇒ [Survived: 0.0 → 1.0] with support: 0.044274809160305344, confidence: 0.43256997455470736, uplift: 0.031552162849872764.\n",
      " \n",
      "r = [(Age: <16.13336;32.10002)) ∧  (Embarked: s)  ∧ (Fare: avg → very high)  ∧ (Pclass: 3.0 → 1.0) ] ⇒ [Survived: 0.0 → 1.0] with support: 0.016793893129770993, confidence: 0.45340501792114696, uplift: 0.008248515691263782.\n",
      " \n",
      "r = [(Age: <16.13336;32.10002)) ∧ (Embarked: s → c)  ∧ (Fare: avg → very high)  ∧ (Pclass: 3.0 → 1.0) ] ⇒ [Survived: 0.0 → 1.0] with support: 0.016793893129770993, confidence: 0.5716845878136201, uplift: 0.012192536047497881.\n",
      " \n",
      "r = [(Age: <16.13336;32.10002)) ∧ (Fare: avg → very high)  ∧ (Pclass: 3.0 → 1.0) ] ⇒ [Survived: 0.0 → 1.0] with support: 0.021374045801526718, confidence: 0.48148148148148145, uplift: 0.012468193384223919.\n",
      " \n",
      "r = [(Age: <16.13336;32.10002)) ∧ (Fare: avg → higher)  ∧ (Pclass: 3.0 → 2.0) ] ⇒ [Survived: 0.0 → 1.0] with support: 0.016793893129770993, confidence: 0.37606837606837606, uplift: 0.00739870816206694.\n",
      " \n",
      "r = [(Age: <16.13336;32.10002)) ∧  (Embarked: s)  ∧ (Pclass: 2.0 → 1.0) ] ⇒ [Survived: 0.0 → 1.0] with support: 0.022137404580152672, confidence: 0.41397445529676935, uplift: 0.02652671755725191.\n",
      " \n",
      "r = [(Age: <16.13336;32.10002)) ∧ (Embarked: s → c)  ∧ (Pclass: 2.0 → 1.0) ] ⇒ [Survived: 0.0 → 1.0] with support: 0.025190839694656488, confidence: 0.4820295983086681, uplift: 0.03653470619563288.\n",
      " \n",
      "r = [(Age: <16.13336;32.10002)) ∧ (Pclass: 2.0 → 1.0) ] ⇒ [Survived: 0.0 → 1.0] with support: 0.04732824427480916, confidence: 0.42040850078557845, uplift: 0.032104939896463985.\n",
      " \n",
      "r = [(Age: <16.13336;32.10002)) ∧  (Embarked: s)  ∧ (Fare: avg → very high)  ∧ (Pclass: 2.0 → 1.0) ] ⇒ [Survived: 0.0 → 1.0] with support: 0.017557251908396947, confidence: 0.44479606188466947, uplift: 0.0202078032230704.\n",
      " \n",
      "r = [(Age: <16.13336;32.10002)) ∧ (Embarked: s → c)  ∧ (Fare: avg → very high)  ∧ (Pclass: 2.0 → 1.0) ] ⇒ [Survived: 0.0 → 1.0] with support: 0.022137404580152672, confidence: 0.5608298171589311, uplift: 0.03025869380831213.\n",
      " \n",
      "r = [(Age: <16.13336;32.10002)) ∧ (Fare: avg → very high)  ∧ (Pclass: 2.0 → 1.0) ] ⇒ [Survived: 0.0 → 1.0] with support: 0.03969465648854962, confidence: 0.46254681647940077, uplift: 0.02463952502120441.\n",
      " \n",
      "r = [(Age: <16.13336;32.10002)) ∧ (Fare: avg → higher)  ∧  (Pclass: 2.0) ] ⇒ [Survived: 0.0 → 1.0] with support: 0.016793893129770993, confidence: 0.3612791702679343, uplift: 0.013897044431395576.\n",
      " \n",
      "r = [(Age: <16.13336;32.10002)) ∧  (Embarked: s)  ∧ (Fare: very low → very high) ] ⇒ [Survived: 0.0 → 1.0] with support: 0.021374045801526718, confidence: 0.3837953091684435, uplift: 0.012431842966194113.\n",
      " \n",
      "r = [(Age: <16.13336;32.10002)) ∧ (Embarked: s → c)  ∧ (Fare: very low → very high) ] ⇒ [Survived: 0.0 → 1.0] with support: 0.022900763358778626, confidence: 0.530243519245876, uplift: 0.023583768581759743.\n",
      " \n",
      "r = [(Age: <16.13336;32.10002)) ∧ (Fare: very low → very high) ] ⇒ [Survived: 0.0 → 1.0] with support: 0.044274809160305344, confidence: 0.4610591900311526, uplift: 0.029262086513994902.\n",
      " \n",
      "r = [(Age: <16.13336;32.10002)) ∧  (Embarked: s)  ∧ (Fare: very low → very high)  ∧ (Pclass: 3.0 → 1.0) ] ⇒ [Survived: 0.0 → 1.0] with support: 0.017557251908396947, confidence: 0.4291044776119403, uplift: 0.01588210347752332.\n",
      " \n",
      "r = [(Age: <16.13336;32.10002)) ∧ (Embarked: s → c)  ∧ (Fare: very low → very high)  ∧ (Pclass: 3.0 → 1.0) ] ⇒ [Survived: 0.0 → 1.0] with support: 0.022137404580152672, confidence: 0.541044776119403, uplift: 0.02440627650551315.\n",
      " \n",
      "r = [(Age: <16.13336;32.10002)) ∧ (Fare: very low → very high)  ∧ (Pclass: 3.0 → 1.0) ] ⇒ [Survived: 0.0 → 1.0] with support: 0.03969465648854962, confidence: 0.49948078920041533, uplift: 0.03379983036471586.\n",
      " \n",
      "r = [(Age: <16.13336;32.10002)) ∧ (Fare: very low → higher)  ∧ (Pclass: 3.0 → 2.0) ] ⇒ [Survived: 0.0 → 1.0] with support: 0.016793893129770993, confidence: 0.3901270069494368, uplift: 0.02088471325112546.\n",
      " \n",
      "r = [(Age: <16.13336;32.10002)) ∧  (Embarked: s)  ∧ (Fare: lower → very high) ] ⇒ [Survived: 0.0 → 1.0] with support: 0.021374045801526718, confidence: 0.46511627906976744, uplift: 0.03794983642311886.\n",
      " \n",
      "r = [(Age: <16.13336;32.10002)) ∧ (Embarked: s → c)  ∧ (Fare: lower → very high) ] ⇒ [Survived: 0.0 → 1.0] with support: 0.022900763358778626, confidence: 0.6425948592411261, uplift: 0.05942145439935717.\n",
      " \n",
      "r = [(Age: <16.13336;32.10002)) ∧ (Fare: lower → very high) ] ⇒ [Survived: 0.0 → 1.0] with support: 0.044274809160305344, confidence: 0.5373134328358209, uplift: 0.04834605597964377.\n",
      " \n",
      "r = [(Age: <16.13336;32.10002)) ∧  (Embarked: s)  ∧ (Fare: lower → very high)  ∧ (Pclass: 3.0 → 1.0) ] ⇒ [Survived: 0.0 → 1.0] with support: 0.017557251908396947, confidence: 0.5200258397932817, uplift: 0.04459287531806615.\n",
      " \n",
      "r = [(Age: <16.13336;32.10002)) ∧ (Embarked: s → c)  ∧ (Fare: lower → very high)  ∧ (Pclass: 3.0 → 1.0) ] ⇒ [Survived: 0.0 → 1.0] with support: 0.022137404580152672, confidence: 0.6556847545219638, uplift: 0.06100508905852417.\n",
      " \n",
      "r = [(Age: <16.13336;32.10002)) ∧ (Fare: lower → very high)  ∧ (Pclass: 3.0 → 1.0) ] ⇒ [Survived: 0.0 → 1.0] with support: 0.03969465648854962, confidence: 0.582089552238806, uplift: 0.054028837998303644.\n",
      " \n",
      "r = [(Age: <16.13336;32.10002)) ∧ (Fare: lower → higher)  ∧ (Pclass: 3.0 → 2.0) ] ⇒ [Survived: 0.0 → 1.0] with support: 0.016793893129770993, confidence: 0.45464982778415614, uplift: 0.03785476609904091.\n",
      " \n",
      "r = [(Age: <32.10002;48.06668)) ∧ (Embarked: s → c) ] ⇒ [Survived: 0.0 → 1.0] with support: 0.026717557251908396, confidence: 0.3800505050505051, uplift: 0.03549618320610687.\n",
      " \n",
      "r = [(Age: <32.10002;48.06668)) ∧  (Embarked: s)  ∧ (Pclass: 3.0 → 1.0) ] ⇒ [Survived: 0.0 → 1.0] with support: 0.024427480916030534, confidence: 0.4761270264268265, uplift: 0.024695326101513322.\n",
      " \n",
      "r = [(Age: <32.10002;48.06668)) ∧ (Embarked: s → c)  ∧ (Pclass: 3.0 → 1.0) ] ⇒ [Survived: 0.0 → 1.0] with support: 0.024427480916030534, confidence: 0.5899834892680241, uplift: 0.03279123796880185.\n",
      " \n",
      "r = [(Age: <32.10002;48.06668)) ∧ (Pclass: 3.0 → 1.0) ] ⇒ [Survived: 0.0 → 1.0] with support: 0.05114503816793893, confidence: 0.5283294392523364, uplift: 0.03443675536848112.\n",
      " \n",
      "r = [(Age: <32.10002;48.06668)) ∧  (Embarked: s)  ∧ (Fare: avg → very high) ] ⇒ [Survived: 0.0 → 1.0] with support: 0.019083969465648856, confidence: 0.42070372259051503, uplift: 0.012069321229626572.\n",
      " \n",
      "r = [(Age: <32.10002;48.06668)) ∧ (Embarked: s → c)  ∧ (Fare: avg → very high) ] ⇒ [Survived: 0.0 → 1.0] with support: 0.019083969465648856, confidence: 0.45782463928967815, uplift: 0.014481365065110014.\n",
      " \n",
      "r = [(Age: <32.10002;48.06668)) ∧ (Fare: avg → very high) ] ⇒ [Survived: 0.0 → 1.0] with support: 0.02900763358778626, confidence: 0.4551412429378531, uplift: 0.015796437659033078.\n",
      " \n",
      "r = [(Age: <32.10002;48.06668)) ∧  (Embarked: s)  ∧ (Pclass: 2.0 → 1.0) ] ⇒ [Survived: 0.0 → 1.0] with support: 0.024427480916030534, confidence: 0.3350311262026033, uplift: 0.007486272934244004.\n",
      " \n",
      "r = [(Age: <32.10002;48.06668)) ∧ (Embarked: s → c)  ∧ (Pclass: 2.0 → 1.0) ] ⇒ [Survived: 0.0 → 1.0] with support: 0.024427480916030534, confidence: 0.41514726507713884, uplift: 0.01384002655160969.\n",
      " \n",
      "r = [(Age: <32.10002;48.06668)) ∧ (Pclass: 2.0 → 1.0) ] ⇒ [Survived: 0.0 → 1.0] with support: 0.031297709923664124, confidence: 0.3889832908524497, uplift: 0.012463437254762073.\n",
      " \n",
      "r = [(Age: <32.10002;48.06668)) ∧  (Embarked: s)  ∧ (Fare: avg → very high)  ∧ (Pclass: 2.0 → 1.0) ] ⇒ [Survived: 0.0 → 1.0] with support: 0.017557251908396947, confidence: 0.45098039215686275, uplift: 0.009474629546475079.\n",
      " \n",
      "r = [(Age: <32.10002;48.06668)) ∧ (Embarked: s → c)  ∧ (Fare: avg → very high)  ∧ (Pclass: 2.0 → 1.0) ] ⇒ [Survived: 0.0 → 1.0] with support: 0.017557251908396947, confidence: 0.46977124183006536, uplift: 0.010282891782667267.\n",
      " \n",
      "r = [(Age: <32.10002;48.06668)) ∧ (Fare: avg → very high)  ∧ (Pclass: 2.0 → 1.0) ] ⇒ [Survived: 0.0 → 1.0] with support: 0.01984732824427481, confidence: 0.48148148148148145, uplift: 0.011577608142493638.\n",
      " \n",
      "r = [(Age: <32.10002;48.06668)) ∧  (Embarked: s)  ∧ (Fare: higher → very high) ] ⇒ [Survived: 0.0 → 1.0] with support: 0.019083969465648856, confidence: 0.42542542542542544, uplift: 0.012585104188157621.\n",
      " \n",
      "r = [(Age: <32.10002;48.06668)) ∧ (Embarked: s → c)  ∧ (Fare: higher → very high) ] ⇒ [Survived: 0.0 → 1.0] with support: 0.019083969465648856, confidence: 0.462962962962963, uplift: 0.015042658284687923.\n",
      " \n",
      "r = [(Age: <32.10002;48.06668)) ∧ (Fare: higher → very high) ] ⇒ [Survived: 0.0 → 1.0] with support: 0.031297709923664124, confidence: 0.42607843137254897, uplift: 0.01607124681933842.\n",
      " \n",
      "r = [(Age: <32.10002;48.06668)) ∧  (Embarked: s)  ∧ (Fare: very low → very high) ] ⇒ [Survived: 0.0 → 1.0] with support: 0.016793893129770993, confidence: 0.6462984723854289, uplift: 0.0110996492675882.\n",
      " \n",
      "r = [(Age: <32.10002;48.06668)) ∧ (Embarked: s → c)  ∧ (Fare: very low → very high) ] ⇒ [Survived: 0.0 → 1.0] with support: 0.016793893129770993, confidence: 0.7033248081841433, uplift: 0.01214638527166592.\n",
      " \n",
      "r = [(Age: <32.10002;48.06668)) ∧ (Fare: very low → very high) ] ⇒ [Survived: 0.0 → 1.0] with support: 0.022900763358778626, confidence: 0.6424242424242425, uplift: 0.015511450381679389.\n",
      " \n",
      "r = [(Age: <32.10002;48.06668)) ∧ (Fare: very low → very high)  ∧ (Pclass: 3.0 → 1.0) ] ⇒ [Survived: 0.0 → 1.0] with support: 0.01984732824427481, confidence: 0.6475095785440613, uplift: 0.013698049194232401.\n",
      " \n",
      "r = [(Age: <32.10002;48.06668)) ∧  (Embarked: s)  ∧ (Fare: lower → very high) ] ⇒ [Survived: 0.0 → 1.0] with support: 0.019083969465648856, confidence: 0.6102877070619006, uplift: 0.013699195378584692.\n",
      " \n",
      "r = [(Age: <32.10002;48.06668)) ∧ (Embarked: s → c)  ∧ (Fare: lower → very high) ] ⇒ [Survived: 0.0 → 1.0] with support: 0.019083969465648856, confidence: 0.6641366223908919, uplift: 0.01511001347103727.\n",
      " \n",
      "r = [(Age: <32.10002;48.06668)) ∧ (Fare: lower → very high) ] ⇒ [Survived: 0.0 → 1.0] with support: 0.02366412213740458, confidence: 0.644313725490196, uplift: 0.016050890585241732.\n",
      " \n",
      "r = [(Age: <32.10002;48.06668)) ∧  (Embarked: s)  ∧ (Fare: lower → very high)  ∧ (Pclass: 3.0 → 1.0) ] ⇒ [Survived: 0.0 → 1.0] with support: 0.0183206106870229, confidence: 0.6375711574952562, uplift: 0.014414009878760667.\n",
      " \n",
      "r = [(Age: <32.10002;48.06668)) ∧ (Embarked: s → c)  ∧ (Fare: lower → very high)  ∧ (Pclass: 3.0 → 1.0) ] ⇒ [Survived: 0.0 → 1.0] with support: 0.019083969465648856, confidence: 0.6641366223908919, uplift: 0.01511001347103727.\n",
      " \n",
      "r = [(Age: <32.10002;48.06668)) ∧ (Fare: lower → very high)  ∧ (Pclass: 3.0 → 1.0) ] ⇒ [Survived: 0.0 → 1.0] with support: 0.02366412213740458, confidence: 0.6584967320261438, uplift: 0.016454622561492792.\n",
      " \n",
      "r = [(Age: <0.1667;16.13336)) ∧  (Embarked: s)  ∧ (Pclass: 3.0 → 2.0) ] ⇒ [Survived: 0.0 → 1.0] with support: 0.017557251908396947, confidence: 0.6165501165501166, uplift: 0.029301233118027008.\n",
      " \n",
      "r = [(Age: <0.1667;16.13336)) ∧ (Pclass: 3.0 → 2.0) ] ⇒ [Survived: 0.0 → 1.0] with support: 0.020610687022900764, confidence: 0.5419354838709678, uplift: 0.03564885496183206.\n",
      " \n",
      "r = [(Age: <0.1667;16.13336)) ∧ (Fare: higher → avg)  ∧  (Pclass: 3.0) ] ⇒ [Survived: 0.0 → 1.0] with support: 0.016793893129770993, confidence: 0.5036630036630036, uplift: 0.009767077706009004.\n",
      " \n",
      "r = [(Age: <0.1667;16.13336)) ∧  (Fare: higher)  ∧ (Pclass: 3.0 → 2.0) ] ⇒ [Survived: 0.0 → 1.0] with support: 0.015267175572519083, confidence: 0.8503401360544217, uplift: 0.018066157760814248.\n",
      " \n",
      "r = [(Age: <48.06668;64.03334)) ∧ (Embarked: s → c) ] ⇒ [Survived: 0.0 → 1.0] with support: 0.01603053435114504, confidence: 0.40579710144927533, uplift: 0.014434420541290773.\n",
      " \n",
      "r = [(Sex: female) ∧  (Embarked: s)  ∧ (Pclass: 3.0 → 1.0) ] ⇒ [Survived: 0.0 → 1.0] with support: 0.050381679389312976, confidence: 0.5783619817997978, uplift: 0.05526053767009625.\n",
      " \n",
      "r = [(Sex: female) ∧  (Embarked: s)  ∧ (Pclass: 3.0 → 2.0) ] ⇒ [Survived: 0.0 → 1.0] with support: 0.059541984732824425, confidence: 0.5266316579144786, uplift: 0.04683575474021177.\n",
      " \n",
      "r = [(Sex: female) ∧ (Embarked: s → c)  ∧  (Pclass: 3.0) ] ⇒ [Survived: 0.0 → 1.0] with support: 0.016793893129770993, confidence: 0.4291072768192048, uplift: 0.030952967249445955.\n",
      " \n",
      "r = [(Sex: female) ∧ (Embarked: s → c)  ∧ (Pclass: 3.0 → 1.0) ] ⇒ [Survived: 0.0 → 1.0] with support: 0.05267175572519084, confidence: 0.5876187356698329, uplift: 0.05676808945274702.\n",
      " \n",
      "r = [(Sex: female) ∧ (Embarked: s → q)  ∧  (Pclass: 3.0) ] ⇒ [Survived: 0.0 → 1.0] with support: 0.025190839694656488, confidence: 0.35631229235880396, uplift: 0.019097600872410032.\n",
      " \n",
      "r = [(Sex: female) ∧  (Embarked: s)  ∧ (Fare: higher → avg)  ∧ (Pclass: 3.0 → 2.0) ] ⇒ [Survived: 0.0 → 1.0] with support: 0.01603053435114504, confidence: 0.6872727272727273, uplift: 0.012560721721027067.\n",
      " \n",
      "r = [(Sex: female) ∧  (Embarked: s)  ∧ (Fare: higher → very high)  ∧ (Pclass: 3.0 → 1.0) ] ⇒ [Survived: 0.0 → 1.0] with support: 0.01603053435114504, confidence: 0.796551724137931, uplift: 0.015043432482232166.\n",
      " \n",
      "r = [(Sex: female) ∧ (Embarked: s → c)  ∧ (Fare: higher → very high)  ∧ (Pclass: 3.0 → 1.0) ] ⇒ [Survived: 0.0 → 1.0] with support: 0.01603053435114504, confidence: 0.84, uplift: 0.01603053435114504.\n",
      " \n",
      "r = [(Sex: female) ∧  (Embarked: s)  ∧  (Fare: higher)  ∧ (Pclass: 3.0 → 2.0) ] ⇒ [Survived: 0.0 → 1.0] with support: 0.01603053435114504, confidence: 0.7669565217391303, uplift: 0.01437105874543644.\n",
      " \n",
      "r = [(Sex: female) ∧ (Embarked: s → q)  ∧ (Fare: higher → very low)  ∧  (Pclass: 3.0) ] ⇒ [Survived: 0.0 → 1.0] with support: 0.01603053435114504, confidence: 0.4767567567567567, uplift: 0.007778007014648236.\n",
      " \n",
      "r = [(Sex: female) ∧ (Fare: higher → avg)  ∧  (Pclass: 3.0) ] ⇒ [Survived: 0.0 → 1.0] with support: 0.016793893129770993, confidence: 0.4011220196353436, uplift: 0.006505144374377696.\n",
      " \n",
      "r = [(Sex: female) ∧ (Fare: higher → avg)  ∧ (Pclass: 3.0 → 2.0) ] ⇒ [Survived: 0.0 → 1.0] with support: 0.016793893129770993, confidence: 0.5961290322580646, uplift: 0.013007633587786258.\n",
      " \n",
      "r = [(Sex: female) ∧ (Fare: higher → very high)  ∧ (Pclass: 3.0 → 1.0) ] ⇒ [Survived: 0.0 → 1.0] with support: 0.016793893129770993, confidence: 0.6925078043704475, uplift: 0.01622137404580153.\n",
      " \n",
      "r = [(Sex: female) ∧  (Fare: higher)  ∧ (Pclass: 3.0 → 2.0) ] ⇒ [Survived: 0.0 → 1.0] with support: 0.016793893129770993, confidence: 0.6529032258064517, uplift: 0.01490076335877863.\n",
      " \n",
      "r = [(Sex: female) ∧ (Fare: higher → very low)  ∧  (Pclass: 3.0) ] ⇒ [Survived: 0.0 → 1.0] with support: 0.016793893129770993, confidence: 0.44505194095133954, uplift: 0.007969983180230303.\n",
      " \n",
      "r = [(Sex: female) ∧  (Embarked: s)  ∧ (Fare: lower → avg) ] ⇒ [Survived: 0.0 → 1.0] with support: 0.0183206106870229, confidence: 0.42218246869409665, uplift: 0.008973903781288834.\n",
      " \n",
      "r = [(Sex: female) ∧  (Embarked: s)  ∧ (Fare: lower → very high) ] ⇒ [Survived: 0.0 → 1.0] with support: 0.0183206106870229, confidence: 0.5172798216276477, uplift: 0.013574510454696317.\n",
      " \n",
      "r = [(Sex: female) ∧ (Embarked: s → c)  ∧ (Fare: lower → very high) ] ⇒ [Survived: 0.0 → 1.0] with support: 0.0183206106870229, confidence: 0.6153846153846154, uplift: 0.0183206106870229.\n",
      " \n",
      "r = [(Sex: female) ∧  (Embarked: s)  ∧ (Fare: lower → higher) ] ⇒ [Survived: 0.0 → 1.0] with support: 0.0183206106870229, confidence: 0.4277673545966229, uplift: 0.009244088624092348.\n",
      " \n",
      "r = [(Sex: female) ∧ (Embarked: s → q)  ∧ (Fare: lower → very low) ] ⇒ [Survived: 0.0 → 1.0] with support: 0.01603053435114504, confidence: 0.3492723492723493, uplift: 0.0054466680420878905.\n",
      " \n",
      "r = [(Sex: female) ∧ (Fare: lower → avg) ] ⇒ [Survived: 0.0 → 1.0] with support: 0.021374045801526718, confidence: 0.38895558223289317, uplift: 0.009429726088908848.\n",
      " \n",
      "r = [(Sex: female) ∧ (Fare: lower → very high) ] ⇒ [Survived: 0.0 → 1.0] with support: 0.021374045801526718, confidence: 0.525879917184265, uplift: 0.018392521296603608.\n",
      " \n",
      "r = [(Sex: female) ∧ (Fare: lower → higher) ] ⇒ [Survived: 0.0 → 1.0] with support: 0.021374045801526718, confidence: 0.41301272984441295, uplift: 0.011004459224548409.\n",
      " \n",
      "r = [(Sex: female) ∧ (Fare: lower → very low) ] ⇒ [Survived: 0.0 → 1.0] with support: 0.021374045801526718, confidence: 0.35835351089588374, uplift: 0.007426575236123688.\n",
      " \n",
      "r = [(Sex: female) ∧  (Embarked: s)  ∧ (Fare: lower → avg)  ∧ (Pclass: 3.0 → 2.0) ] ⇒ [Survived: 0.0 → 1.0] with support: 0.0183206106870229, confidence: 0.5034965034965035, uplift: 0.012907702984038864.\n",
      " \n",
      "r = [(Sex: female) ∧  (Embarked: s)  ∧ (Fare: lower → very high)  ∧ (Pclass: 3.0 → 1.0) ] ⇒ [Survived: 0.0 → 1.0] with support: 0.0183206106870229, confidence: 0.583554376657825, uplift: 0.01678073177151882.\n",
      " \n",
      "r = [(Sex: female) ∧ (Embarked: s → c)  ∧ (Fare: lower → very high)  ∧ (Pclass: 3.0 → 1.0) ] ⇒ [Survived: 0.0 → 1.0] with support: 0.0183206106870229, confidence: 0.6153846153846154, uplift: 0.0183206106870229.\n",
      " \n",
      "r = [(Sex: female) ∧  (Embarked: s)  ∧ (Fare: lower → higher)  ∧ (Pclass: 3.0 → 2.0) ] ⇒ [Survived: 0.0 → 1.0] with support: 0.0183206106870229, confidence: 0.5618729096989966, uplift: 0.01573182874211749.\n",
      " \n",
      "r = [(Sex: female) ∧ (Embarked: s → q)  ∧ (Fare: lower → very low)  ∧  (Pclass: 3.0) ] ⇒ [Survived: 0.0 → 1.0] with support: 0.01603053435114504, confidence: 0.3492723492723493, uplift: 0.0054466680420878905.\n",
      " \n",
      "r = [(Sex: female) ∧ (Fare: lower → avg)  ∧  (Pclass: 3.0) ] ⇒ [Survived: 0.0 → 1.0] with support: 0.021374045801526718, confidence: 0.3229813664596273, uplift: 0.005111184865582475.\n",
      " \n",
      "r = [(Sex: female) ∧ (Fare: lower → avg)  ∧ (Pclass: 3.0 → 2.0) ] ⇒ [Survived: 0.0 → 1.0] with support: 0.021374045801526718, confidence: 0.48, uplift: 0.015389312977099234.\n",
      " \n",
      "r = [(Sex: female) ∧ (Fare: lower → very high)  ∧ (Pclass: 3.0 → 1.0) ] ⇒ [Survived: 0.0 → 1.0] with support: 0.021374045801526718, confidence: 0.5576036866359447, uplift: 0.020469096281704017.\n",
      " \n",
      "r = [(Sex: female) ∧ (Fare: lower → higher)  ∧ (Pclass: 3.0 → 2.0) ] ⇒ [Survived: 0.0 → 1.0] with support: 0.021374045801526718, confidence: 0.5257142857142857, uplift: 0.01838167938931298.\n",
      " \n",
      "r = [(Sex: female) ∧ (Fare: lower → very low)  ∧  (Pclass: 3.0) ] ⇒ [Survived: 0.0 → 1.0] with support: 0.021374045801526718, confidence: 0.35835351089588374, uplift: 0.007426575236123688.\n",
      " \n"
     ]
    }
   ],
   "source": [
    "for rule in actionRulesDiscovery.get_action_rules_representation():\n",
    "    print(rule)\n",
    "    print(\" \")"
   ]
  },
  {
   "cell_type": "code",
   "execution_count": 18,
   "id": "3a9ca7d4",
   "metadata": {},
   "outputs": [
    {
     "name": "stdout",
     "output_type": "stream",
     "text": [
      "97\n"
     ]
    }
   ],
   "source": [
    "print(len(actionRulesDiscovery.get_action_rules_representation()))"
   ]
  },
  {
   "cell_type": "markdown",
   "id": "061f55b0",
   "metadata": {},
   "source": [
    "### AR-APRIORI"
   ]
  },
  {
   "cell_type": "code",
   "execution_count": 19,
   "id": "f2619c93",
   "metadata": {},
   "outputs": [
    {
     "data": {
      "text/html": [
       "<div>\n",
       "<style scoped>\n",
       "    .dataframe tbody tr th:only-of-type {\n",
       "        vertical-align: middle;\n",
       "    }\n",
       "\n",
       "    .dataframe tbody tr th {\n",
       "        vertical-align: top;\n",
       "    }\n",
       "\n",
       "    .dataframe thead th {\n",
       "        text-align: right;\n",
       "    }\n",
       "</style>\n",
       "<table border=\"1\" class=\"dataframe\">\n",
       "  <thead>\n",
       "    <tr style=\"text-align: right;\">\n",
       "      <th></th>\n",
       "      <th>ID</th>\n",
       "      <th>Age</th>\n",
       "      <th>Embarked</th>\n",
       "      <th>Fare</th>\n",
       "      <th>Pclass</th>\n",
       "      <th>Sex</th>\n",
       "      <th>Survived</th>\n",
       "    </tr>\n",
       "  </thead>\n",
       "  <tbody>\n",
       "    <tr>\n",
       "      <th>0</th>\n",
       "      <td>1</td>\n",
       "      <td>&lt;16.13336;32.10002)</td>\n",
       "      <td>S</td>\n",
       "      <td>very high</td>\n",
       "      <td>1.0</td>\n",
       "      <td>female</td>\n",
       "      <td>1.0</td>\n",
       "    </tr>\n",
       "    <tr>\n",
       "      <th>1</th>\n",
       "      <td>2</td>\n",
       "      <td>&lt;0.1667;16.13336)</td>\n",
       "      <td>S</td>\n",
       "      <td>very high</td>\n",
       "      <td>1.0</td>\n",
       "      <td>male</td>\n",
       "      <td>1.0</td>\n",
       "    </tr>\n",
       "    <tr>\n",
       "      <th>2</th>\n",
       "      <td>3</td>\n",
       "      <td>&lt;0.1667;16.13336)</td>\n",
       "      <td>S</td>\n",
       "      <td>very high</td>\n",
       "      <td>1.0</td>\n",
       "      <td>female</td>\n",
       "      <td>0.0</td>\n",
       "    </tr>\n",
       "    <tr>\n",
       "      <th>3</th>\n",
       "      <td>4</td>\n",
       "      <td>&lt;16.13336;32.10002)</td>\n",
       "      <td>S</td>\n",
       "      <td>very high</td>\n",
       "      <td>1.0</td>\n",
       "      <td>male</td>\n",
       "      <td>0.0</td>\n",
       "    </tr>\n",
       "    <tr>\n",
       "      <th>4</th>\n",
       "      <td>5</td>\n",
       "      <td>&lt;16.13336;32.10002)</td>\n",
       "      <td>S</td>\n",
       "      <td>very high</td>\n",
       "      <td>1.0</td>\n",
       "      <td>female</td>\n",
       "      <td>0.0</td>\n",
       "    </tr>\n",
       "    <tr>\n",
       "      <th>...</th>\n",
       "      <td>...</td>\n",
       "      <td>...</td>\n",
       "      <td>...</td>\n",
       "      <td>...</td>\n",
       "      <td>...</td>\n",
       "      <td>...</td>\n",
       "      <td>...</td>\n",
       "    </tr>\n",
       "    <tr>\n",
       "      <th>1305</th>\n",
       "      <td>1306</td>\n",
       "      <td>NaN</td>\n",
       "      <td>C</td>\n",
       "      <td>avg</td>\n",
       "      <td>3.0</td>\n",
       "      <td>female</td>\n",
       "      <td>0.0</td>\n",
       "    </tr>\n",
       "    <tr>\n",
       "      <th>1306</th>\n",
       "      <td>1307</td>\n",
       "      <td>&lt;16.13336;32.10002)</td>\n",
       "      <td>C</td>\n",
       "      <td>very low</td>\n",
       "      <td>3.0</td>\n",
       "      <td>male</td>\n",
       "      <td>0.0</td>\n",
       "    </tr>\n",
       "    <tr>\n",
       "      <th>1307</th>\n",
       "      <td>1308</td>\n",
       "      <td>&lt;16.13336;32.10002)</td>\n",
       "      <td>C</td>\n",
       "      <td>very low</td>\n",
       "      <td>3.0</td>\n",
       "      <td>male</td>\n",
       "      <td>0.0</td>\n",
       "    </tr>\n",
       "    <tr>\n",
       "      <th>1308</th>\n",
       "      <td>1309</td>\n",
       "      <td>&lt;16.13336;32.10002)</td>\n",
       "      <td>S</td>\n",
       "      <td>lower</td>\n",
       "      <td>3.0</td>\n",
       "      <td>male</td>\n",
       "      <td>0.0</td>\n",
       "    </tr>\n",
       "    <tr>\n",
       "      <th>1309</th>\n",
       "      <td>1310</td>\n",
       "      <td>NaN</td>\n",
       "      <td>NaN</td>\n",
       "      <td>NaN</td>\n",
       "      <td>NaN</td>\n",
       "      <td>NaN</td>\n",
       "      <td>NaN</td>\n",
       "    </tr>\n",
       "  </tbody>\n",
       "</table>\n",
       "<p>1310 rows × 7 columns</p>\n",
       "</div>"
      ],
      "text/plain": [
       "        ID                  Age Embarked       Fare  Pclass     Sex  Survived\n",
       "0        1  <16.13336;32.10002)        S  very high     1.0  female       1.0\n",
       "1        2    <0.1667;16.13336)        S  very high     1.0    male       1.0\n",
       "2        3    <0.1667;16.13336)        S  very high     1.0  female       0.0\n",
       "3        4  <16.13336;32.10002)        S  very high     1.0    male       0.0\n",
       "4        5  <16.13336;32.10002)        S  very high     1.0  female       0.0\n",
       "...    ...                  ...      ...        ...     ...     ...       ...\n",
       "1305  1306                  NaN        C        avg     3.0  female       0.0\n",
       "1306  1307  <16.13336;32.10002)        C   very low     3.0    male       0.0\n",
       "1307  1308  <16.13336;32.10002)        C   very low     3.0    male       0.0\n",
       "1308  1309  <16.13336;32.10002)        S      lower     3.0    male       0.0\n",
       "1309  1310                  NaN      NaN        NaN     NaN     NaN       NaN\n",
       "\n",
       "[1310 rows x 7 columns]"
      ]
     },
     "execution_count": 19,
     "metadata": {},
     "output_type": "execute_result"
    }
   ],
   "source": [
    "dataFrame"
   ]
  },
  {
   "cell_type": "code",
   "execution_count": 20,
   "id": "c0777a69",
   "metadata": {},
   "outputs": [],
   "source": [
    "# Data\n",
    "data = dataFrame[['Age','Sex', \"Embarked\", \"Fare\", \"Pclass\", \"Survived\"]]\n",
    "# Input\n",
    "stable_attributes = ['Age','Sex']\n",
    "flexible_attributes = [\"Embarked\", \"Fare\", \"Pclass\"]\n",
    "target = 'Survived'\n",
    "wanted_change_in_target = ['0.0', '1.0']\n",
    "min_stable_attributes = 1\n",
    "min_flexible_attributes = 1 #min 1\n",
    "min_unwanted_support = 20\n",
    "min_unwanted_confidence = 0.55 #min 0.5\n",
    "min_wanted_support = 20\n",
    "min_wanted_confidence = 0.55 #min 0.5\n"
   ]
  },
  {
   "cell_type": "code",
   "execution_count": 21,
   "id": "aaa8a678",
   "metadata": {},
   "outputs": [
    {
     "name": "stdout",
     "output_type": "stream",
     "text": [
      "ITEMSET - counting support\n"
     ]
    }
   ],
   "source": [
    "print('ITEMSET - counting support')\n",
    "action_rules = ar_apriori(data, stable_attributes, flexible_attributes, target, wanted_change_in_target, min_stable_attributes , min_flexible_attributes, min_unwanted_support, min_unwanted_confidence, min_wanted_support, min_wanted_confidence)"
   ]
  },
  {
   "cell_type": "code",
   "execution_count": 22,
   "id": "c21a5afc",
   "metadata": {
    "scrolled": true
   },
   "outputs": [
    {
     "name": "stdout",
     "output_type": "stream",
     "text": [
      "ACTION RULES\n",
      "{'unwanted': {'itemset': ('Age_<item>_<0.1667;16.13336)', 'Pclass_<item>_3.0'), 'support': 56, 'confidence': 0.6021505376344086, 'target': '0.0'}, 'wanted': {'itemset': ('Age_<item>_<0.1667;16.13336)', 'Pclass_<item>_2.0'), 'support': 27, 'confidence': 0.9, 'target': '1.0'}}\n",
      " \n",
      "{'unwanted': {'itemset': ('Age_<item>_<16.13336;32.10002)', 'Embarked_<item>_S'), 'support': 273, 'confidence': 0.6707616707616708, 'target': '0.0'}, 'wanted': {'itemset': ('Age_<item>_<16.13336;32.10002)', 'Embarked_<item>_C'), 'support': 55, 'confidence': 0.6111111111111112, 'target': '1.0'}}\n",
      " \n",
      "{'unwanted': {'itemset': ('Age_<item>_<16.13336;32.10002)', 'Fare_<item>_avg'), 'support': 85, 'confidence': 0.648854961832061, 'target': '0.0'}, 'wanted': {'itemset': ('Age_<item>_<16.13336;32.10002)', 'Fare_<item>_very high'), 'support': 58, 'confidence': 0.6666666666666666, 'target': '1.0'}}\n",
      " \n",
      "{'unwanted': {'itemset': ('Age_<item>_<16.13336;32.10002)', 'Fare_<item>_lower'), 'support': 108, 'confidence': 0.8059701492537313, 'target': '0.0'}, 'wanted': {'itemset': ('Age_<item>_<16.13336;32.10002)', 'Fare_<item>_very high'), 'support': 58, 'confidence': 0.6666666666666666, 'target': '1.0'}}\n",
      " \n",
      "{'unwanted': {'itemset': ('Age_<item>_<16.13336;32.10002)', 'Fare_<item>_very low'), 'support': 74, 'confidence': 0.6915887850467289, 'target': '0.0'}, 'wanted': {'itemset': ('Age_<item>_<16.13336;32.10002)', 'Fare_<item>_very high'), 'support': 58, 'confidence': 0.6666666666666666, 'target': '1.0'}}\n",
      " \n",
      "{'unwanted': {'itemset': ('Age_<item>_<16.13336;32.10002)', 'Pclass_<item>_2.0'), 'support': 82, 'confidence': 0.5899280575539568, 'target': '0.0'}, 'wanted': {'itemset': ('Age_<item>_<16.13336;32.10002)', 'Pclass_<item>_1.0'), 'support': 62, 'confidence': 0.7126436781609196, 'target': '1.0'}}\n",
      " \n",
      "{'unwanted': {'itemset': ('Age_<item>_<16.13336;32.10002)', 'Pclass_<item>_3.0'), 'support': 220, 'confidence': 0.738255033557047, 'target': '0.0'}, 'wanted': {'itemset': ('Age_<item>_<16.13336;32.10002)', 'Pclass_<item>_1.0'), 'support': 62, 'confidence': 0.7126436781609196, 'target': '1.0'}}\n",
      " \n",
      "{'unwanted': {'itemset': ('Age_<item>_<32.10002;48.06668)', 'Embarked_<item>_S'), 'support': 129, 'confidence': 0.6515151515151515, 'target': '0.0'}, 'wanted': {'itemset': ('Age_<item>_<32.10002;48.06668)', 'Embarked_<item>_C'), 'support': 35, 'confidence': 0.5833333333333334, 'target': '1.0'}}\n",
      " \n",
      "{'unwanted': {'itemset': ('Age_<item>_<32.10002;48.06668)', 'Fare_<item>_avg'), 'support': 38, 'confidence': 0.6440677966101694, 'target': '0.0'}, 'wanted': {'itemset': ('Age_<item>_<32.10002;48.06668)', 'Fare_<item>_very high'), 'support': 53, 'confidence': 0.7066666666666667, 'target': '1.0'}}\n",
      " \n",
      "{'unwanted': {'itemset': ('Age_<item>_<32.10002;48.06668)', 'Fare_<item>_higher'), 'support': 41, 'confidence': 0.6029411764705882, 'target': '0.0'}, 'wanted': {'itemset': ('Age_<item>_<32.10002;48.06668)', 'Fare_<item>_very high'), 'support': 53, 'confidence': 0.7066666666666667, 'target': '1.0'}}\n",
      " \n",
      "{'unwanted': {'itemset': ('Age_<item>_<32.10002;48.06668)', 'Fare_<item>_lower'), 'support': 31, 'confidence': 0.9117647058823529, 'target': '0.0'}, 'wanted': {'itemset': ('Age_<item>_<32.10002;48.06668)', 'Fare_<item>_very high'), 'support': 53, 'confidence': 0.7066666666666667, 'target': '1.0'}}\n",
      " \n",
      "{'unwanted': {'itemset': ('Age_<item>_<32.10002;48.06668)', 'Fare_<item>_very low'), 'support': 30, 'confidence': 0.9090909090909091, 'target': '0.0'}, 'wanted': {'itemset': ('Age_<item>_<32.10002;48.06668)', 'Fare_<item>_very high'), 'support': 53, 'confidence': 0.7066666666666667, 'target': '1.0'}}\n",
      " \n",
      "{'unwanted': {'itemset': ('Age_<item>_<32.10002;48.06668)', 'Pclass_<item>_2.0'), 'support': 41, 'confidence': 0.6212121212121212, 'target': '0.0'}, 'wanted': {'itemset': ('Age_<item>_<32.10002;48.06668)', 'Pclass_<item>_1.0'), 'support': 67, 'confidence': 0.6261682242990654, 'target': '1.0'}}\n",
      " \n",
      "{'unwanted': {'itemset': ('Age_<item>_<32.10002;48.06668)', 'Pclass_<item>_3.0'), 'support': 81, 'confidence': 0.84375, 'target': '0.0'}, 'wanted': {'itemset': ('Age_<item>_<32.10002;48.06668)', 'Pclass_<item>_1.0'), 'support': 67, 'confidence': 0.6261682242990654, 'target': '1.0'}}\n",
      " \n",
      "{'unwanted': {'itemset': ('Age_<item>_<48.06668;64.03334)', 'Embarked_<item>_S'), 'support': 44, 'confidence': 0.6376811594202898, 'target': '0.0'}, 'wanted': {'itemset': ('Age_<item>_<48.06668;64.03334)', 'Embarked_<item>_C'), 'support': 21, 'confidence': 0.6363636363636364, 'target': '1.0'}}\n",
      " \n",
      "{'unwanted': {'itemset': ('Sex_<item>_female', 'Fare_<item>_lower'), 'support': 28, 'confidence': 0.5714285714285714, 'target': '0.0'}, 'wanted': {'itemset': ('Sex_<item>_female', 'Fare_<item>_avg'), 'support': 81, 'confidence': 0.680672268907563, 'target': '1.0'}}\n",
      " \n",
      "{'unwanted': {'itemset': ('Sex_<item>_female', 'Fare_<item>_lower'), 'support': 28, 'confidence': 0.5714285714285714, 'target': '0.0'}, 'wanted': {'itemset': ('Sex_<item>_female', 'Fare_<item>_higher'), 'support': 73, 'confidence': 0.7227722772277227, 'target': '1.0'}}\n",
      " \n",
      "{'unwanted': {'itemset': ('Sex_<item>_female', 'Fare_<item>_lower'), 'support': 28, 'confidence': 0.5714285714285714, 'target': '0.0'}, 'wanted': {'itemset': ('Sex_<item>_female', 'Fare_<item>_very high'), 'support': 127, 'confidence': 0.9202898550724637, 'target': '1.0'}}\n",
      " \n",
      "{'unwanted': {'itemset': ('Sex_<item>_female', 'Fare_<item>_lower'), 'support': 28, 'confidence': 0.5714285714285714, 'target': '0.0'}, 'wanted': {'itemset': ('Sex_<item>_female', 'Fare_<item>_very low'), 'support': 37, 'confidence': 0.6271186440677966, 'target': '1.0'}}\n",
      " \n",
      "{'unwanted': {'itemset': ('Age_<item>_<0.1667;16.13336)', 'Embarked_<item>_S', 'Pclass_<item>_3.0'), 'support': 46, 'confidence': 0.696969696969697, 'target': '0.0'}, 'wanted': {'itemset': ('Age_<item>_<0.1667;16.13336)', 'Embarked_<item>_S', 'Pclass_<item>_2.0'), 'support': 23, 'confidence': 0.8846153846153846, 'target': '1.0'}}\n",
      " \n",
      "{'unwanted': {'itemset': ('Age_<item>_<0.1667;16.13336)', 'Fare_<item>_higher', 'Pclass_<item>_3.0'), 'support': 25, 'confidence': 0.8928571428571429, 'target': '0.0'}, 'wanted': {'itemset': ('Age_<item>_<0.1667;16.13336)', 'Fare_<item>_avg', 'Pclass_<item>_3.0'), 'support': 22, 'confidence': 0.5641025641025641, 'target': '1.0'}}\n",
      " \n",
      "{'unwanted': {'itemset': ('Age_<item>_<0.1667;16.13336)', 'Fare_<item>_higher', 'Pclass_<item>_3.0'), 'support': 25, 'confidence': 0.8928571428571429, 'target': '0.0'}, 'wanted': {'itemset': ('Age_<item>_<0.1667;16.13336)', 'Fare_<item>_higher', 'Pclass_<item>_2.0'), 'support': 20, 'confidence': 0.9523809523809523, 'target': '1.0'}}\n",
      " \n",
      "{'unwanted': {'itemset': ('Age_<item>_<16.13336;32.10002)', 'Embarked_<item>_S', 'Fare_<item>_avg'), 'support': 77, 'confidence': 0.7, 'target': '0.0'}, 'wanted': {'itemset': ('Age_<item>_<16.13336;32.10002)', 'Embarked_<item>_C', 'Fare_<item>_very high'), 'support': 30, 'confidence': 0.7894736842105263, 'target': '1.0'}}\n",
      " \n",
      "{'unwanted': {'itemset': ('Age_<item>_<16.13336;32.10002)', 'Embarked_<item>_S', 'Fare_<item>_lower'), 'support': 105, 'confidence': 0.813953488372093, 'target': '0.0'}, 'wanted': {'itemset': ('Age_<item>_<16.13336;32.10002)', 'Embarked_<item>_C', 'Fare_<item>_very high'), 'support': 30, 'confidence': 0.7894736842105263, 'target': '1.0'}}\n",
      " \n",
      "{'unwanted': {'itemset': ('Age_<item>_<16.13336;32.10002)', 'Embarked_<item>_S', 'Fare_<item>_very low'), 'support': 45, 'confidence': 0.6716417910447762, 'target': '0.0'}, 'wanted': {'itemset': ('Age_<item>_<16.13336;32.10002)', 'Embarked_<item>_C', 'Fare_<item>_very high'), 'support': 30, 'confidence': 0.7894736842105263, 'target': '1.0'}}\n",
      " \n",
      "{'unwanted': {'itemset': ('Age_<item>_<16.13336;32.10002)', 'Embarked_<item>_S', 'Fare_<item>_avg'), 'support': 77, 'confidence': 0.7, 'target': '0.0'}, 'wanted': {'itemset': ('Age_<item>_<16.13336;32.10002)', 'Embarked_<item>_S', 'Fare_<item>_very high'), 'support': 28, 'confidence': 0.5714285714285714, 'target': '1.0'}}\n",
      " \n",
      "{'unwanted': {'itemset': ('Age_<item>_<16.13336;32.10002)', 'Embarked_<item>_S', 'Fare_<item>_lower'), 'support': 105, 'confidence': 0.813953488372093, 'target': '0.0'}, 'wanted': {'itemset': ('Age_<item>_<16.13336;32.10002)', 'Embarked_<item>_S', 'Fare_<item>_very high'), 'support': 28, 'confidence': 0.5714285714285714, 'target': '1.0'}}\n",
      " \n",
      "{'unwanted': {'itemset': ('Age_<item>_<16.13336;32.10002)', 'Embarked_<item>_S', 'Fare_<item>_very low'), 'support': 45, 'confidence': 0.6716417910447762, 'target': '0.0'}, 'wanted': {'itemset': ('Age_<item>_<16.13336;32.10002)', 'Embarked_<item>_S', 'Fare_<item>_very high'), 'support': 28, 'confidence': 0.5714285714285714, 'target': '1.0'}}\n",
      " \n",
      "{'unwanted': {'itemset': ('Age_<item>_<16.13336;32.10002)', 'Embarked_<item>_S', 'Pclass_<item>_2.0'), 'support': 76, 'confidence': 0.628099173553719, 'target': '0.0'}, 'wanted': {'itemset': ('Age_<item>_<16.13336;32.10002)', 'Embarked_<item>_C', 'Pclass_<item>_1.0'), 'support': 33, 'confidence': 0.7674418604651163, 'target': '1.0'}}\n",
      " \n",
      "{'unwanted': {'itemset': ('Age_<item>_<16.13336;32.10002)', 'Embarked_<item>_S', 'Pclass_<item>_3.0'), 'support': 182, 'confidence': 0.7520661157024794, 'target': '0.0'}, 'wanted': {'itemset': ('Age_<item>_<16.13336;32.10002)', 'Embarked_<item>_C', 'Pclass_<item>_1.0'), 'support': 33, 'confidence': 0.7674418604651163, 'target': '1.0'}}\n",
      " \n",
      "{'unwanted': {'itemset': ('Age_<item>_<16.13336;32.10002)', 'Embarked_<item>_S', 'Pclass_<item>_2.0'), 'support': 76, 'confidence': 0.628099173553719, 'target': '0.0'}, 'wanted': {'itemset': ('Age_<item>_<16.13336;32.10002)', 'Embarked_<item>_S', 'Pclass_<item>_1.0'), 'support': 29, 'confidence': 0.6590909090909091, 'target': '1.0'}}\n",
      " \n",
      "{'unwanted': {'itemset': ('Age_<item>_<16.13336;32.10002)', 'Embarked_<item>_S', 'Pclass_<item>_3.0'), 'support': 182, 'confidence': 0.7520661157024794, 'target': '0.0'}, 'wanted': {'itemset': ('Age_<item>_<16.13336;32.10002)', 'Embarked_<item>_S', 'Pclass_<item>_1.0'), 'support': 29, 'confidence': 0.6590909090909091, 'target': '1.0'}}\n",
      " \n",
      "{'unwanted': {'itemset': ('Age_<item>_<16.13336;32.10002)', 'Fare_<item>_avg', 'Pclass_<item>_2.0'), 'support': 57, 'confidence': 0.6404494382022472, 'target': '0.0'}, 'wanted': {'itemset': ('Age_<item>_<16.13336;32.10002)', 'Fare_<item>_higher', 'Pclass_<item>_2.0'), 'support': 22, 'confidence': 0.5641025641025641, 'target': '1.0'}}\n",
      " \n",
      "{'unwanted': {'itemset': ('Age_<item>_<16.13336;32.10002)', 'Fare_<item>_avg', 'Pclass_<item>_3.0'), 'support': 28, 'confidence': 0.6666666666666666, 'target': '0.0'}, 'wanted': {'itemset': ('Age_<item>_<16.13336;32.10002)', 'Fare_<item>_higher', 'Pclass_<item>_2.0'), 'support': 22, 'confidence': 0.5641025641025641, 'target': '1.0'}}\n",
      " \n",
      "{'unwanted': {'itemset': ('Age_<item>_<16.13336;32.10002)', 'Fare_<item>_lower', 'Pclass_<item>_3.0'), 'support': 108, 'confidence': 0.8059701492537313, 'target': '0.0'}, 'wanted': {'itemset': ('Age_<item>_<16.13336;32.10002)', 'Fare_<item>_higher', 'Pclass_<item>_2.0'), 'support': 22, 'confidence': 0.5641025641025641, 'target': '1.0'}}\n",
      " \n",
      "{'unwanted': {'itemset': ('Age_<item>_<16.13336;32.10002)', 'Fare_<item>_very low', 'Pclass_<item>_3.0'), 'support': 74, 'confidence': 0.6915887850467289, 'target': '0.0'}, 'wanted': {'itemset': ('Age_<item>_<16.13336;32.10002)', 'Fare_<item>_higher', 'Pclass_<item>_2.0'), 'support': 22, 'confidence': 0.5641025641025641, 'target': '1.0'}}\n",
      " \n",
      "{'unwanted': {'itemset': ('Age_<item>_<16.13336;32.10002)', 'Fare_<item>_avg', 'Pclass_<item>_2.0'), 'support': 57, 'confidence': 0.6404494382022472, 'target': '0.0'}, 'wanted': {'itemset': ('Age_<item>_<16.13336;32.10002)', 'Fare_<item>_very high', 'Pclass_<item>_1.0'), 'support': 52, 'confidence': 0.7222222222222222, 'target': '1.0'}}\n",
      " \n",
      "{'unwanted': {'itemset': ('Age_<item>_<16.13336;32.10002)', 'Fare_<item>_avg', 'Pclass_<item>_3.0'), 'support': 28, 'confidence': 0.6666666666666666, 'target': '0.0'}, 'wanted': {'itemset': ('Age_<item>_<16.13336;32.10002)', 'Fare_<item>_very high', 'Pclass_<item>_1.0'), 'support': 52, 'confidence': 0.7222222222222222, 'target': '1.0'}}\n",
      " \n",
      "{'unwanted': {'itemset': ('Age_<item>_<16.13336;32.10002)', 'Fare_<item>_lower', 'Pclass_<item>_3.0'), 'support': 108, 'confidence': 0.8059701492537313, 'target': '0.0'}, 'wanted': {'itemset': ('Age_<item>_<16.13336;32.10002)', 'Fare_<item>_very high', 'Pclass_<item>_1.0'), 'support': 52, 'confidence': 0.7222222222222222, 'target': '1.0'}}\n",
      " \n",
      "{'unwanted': {'itemset': ('Age_<item>_<16.13336;32.10002)', 'Fare_<item>_very low', 'Pclass_<item>_3.0'), 'support': 74, 'confidence': 0.6915887850467289, 'target': '0.0'}, 'wanted': {'itemset': ('Age_<item>_<16.13336;32.10002)', 'Fare_<item>_very high', 'Pclass_<item>_1.0'), 'support': 52, 'confidence': 0.7222222222222222, 'target': '1.0'}}\n",
      " \n",
      "{'unwanted': {'itemset': ('Age_<item>_<32.10002;48.06668)', 'Embarked_<item>_S', 'Fare_<item>_avg'), 'support': 33, 'confidence': 0.6226415094339622, 'target': '0.0'}, 'wanted': {'itemset': ('Age_<item>_<32.10002;48.06668)', 'Embarked_<item>_C', 'Fare_<item>_very high'), 'support': 25, 'confidence': 0.7352941176470589, 'target': '1.0'}}\n",
      " \n",
      "{'unwanted': {'itemset': ('Age_<item>_<32.10002;48.06668)', 'Embarked_<item>_S', 'Fare_<item>_higher'), 'support': 34, 'confidence': 0.6296296296296297, 'target': '0.0'}, 'wanted': {'itemset': ('Age_<item>_<32.10002;48.06668)', 'Embarked_<item>_C', 'Fare_<item>_very high'), 'support': 25, 'confidence': 0.7352941176470589, 'target': '1.0'}}\n",
      " \n",
      "{'unwanted': {'itemset': ('Age_<item>_<32.10002;48.06668)', 'Embarked_<item>_S', 'Fare_<item>_lower'), 'support': 28, 'confidence': 0.9032258064516129, 'target': '0.0'}, 'wanted': {'itemset': ('Age_<item>_<32.10002;48.06668)', 'Embarked_<item>_C', 'Fare_<item>_very high'), 'support': 25, 'confidence': 0.7352941176470589, 'target': '1.0'}}\n",
      " \n",
      "{'unwanted': {'itemset': ('Age_<item>_<32.10002;48.06668)', 'Embarked_<item>_S', 'Fare_<item>_very low'), 'support': 22, 'confidence': 0.9565217391304348, 'target': '0.0'}, 'wanted': {'itemset': ('Age_<item>_<32.10002;48.06668)', 'Embarked_<item>_C', 'Fare_<item>_very high'), 'support': 25, 'confidence': 0.7352941176470589, 'target': '1.0'}}\n",
      " \n",
      "{'unwanted': {'itemset': ('Age_<item>_<32.10002;48.06668)', 'Embarked_<item>_S', 'Fare_<item>_avg'), 'support': 33, 'confidence': 0.6226415094339622, 'target': '0.0'}, 'wanted': {'itemset': ('Age_<item>_<32.10002;48.06668)', 'Embarked_<item>_S', 'Fare_<item>_very high'), 'support': 25, 'confidence': 0.6756756756756757, 'target': '1.0'}}\n",
      " \n",
      "{'unwanted': {'itemset': ('Age_<item>_<32.10002;48.06668)', 'Embarked_<item>_S', 'Fare_<item>_higher'), 'support': 34, 'confidence': 0.6296296296296297, 'target': '0.0'}, 'wanted': {'itemset': ('Age_<item>_<32.10002;48.06668)', 'Embarked_<item>_S', 'Fare_<item>_very high'), 'support': 25, 'confidence': 0.6756756756756757, 'target': '1.0'}}\n",
      " \n",
      "{'unwanted': {'itemset': ('Age_<item>_<32.10002;48.06668)', 'Embarked_<item>_S', 'Fare_<item>_lower'), 'support': 28, 'confidence': 0.9032258064516129, 'target': '0.0'}, 'wanted': {'itemset': ('Age_<item>_<32.10002;48.06668)', 'Embarked_<item>_S', 'Fare_<item>_very high'), 'support': 25, 'confidence': 0.6756756756756757, 'target': '1.0'}}\n",
      " \n",
      "{'unwanted': {'itemset': ('Age_<item>_<32.10002;48.06668)', 'Embarked_<item>_S', 'Fare_<item>_very low'), 'support': 22, 'confidence': 0.9565217391304348, 'target': '0.0'}, 'wanted': {'itemset': ('Age_<item>_<32.10002;48.06668)', 'Embarked_<item>_S', 'Fare_<item>_very high'), 'support': 25, 'confidence': 0.6756756756756757, 'target': '1.0'}}\n",
      " \n",
      "{'unwanted': {'itemset': ('Age_<item>_<32.10002;48.06668)', 'Embarked_<item>_S', 'Pclass_<item>_2.0'), 'support': 37, 'confidence': 0.5967741935483871, 'target': '0.0'}, 'wanted': {'itemset': ('Age_<item>_<32.10002;48.06668)', 'Embarked_<item>_C', 'Pclass_<item>_1.0'), 'support': 32, 'confidence': 0.6956521739130435, 'target': '1.0'}}\n",
      " \n",
      "{'unwanted': {'itemset': ('Age_<item>_<32.10002;48.06668)', 'Embarked_<item>_S', 'Pclass_<item>_3.0'), 'support': 67, 'confidence': 0.8481012658227848, 'target': '0.0'}, 'wanted': {'itemset': ('Age_<item>_<32.10002;48.06668)', 'Embarked_<item>_C', 'Pclass_<item>_1.0'), 'support': 32, 'confidence': 0.6956521739130435, 'target': '1.0'}}\n",
      " \n",
      "{'unwanted': {'itemset': ('Age_<item>_<32.10002;48.06668)', 'Embarked_<item>_S', 'Pclass_<item>_2.0'), 'support': 37, 'confidence': 0.5967741935483871, 'target': '0.0'}, 'wanted': {'itemset': ('Age_<item>_<32.10002;48.06668)', 'Embarked_<item>_S', 'Pclass_<item>_1.0'), 'support': 32, 'confidence': 0.5614035087719298, 'target': '1.0'}}\n",
      " \n",
      "{'unwanted': {'itemset': ('Age_<item>_<32.10002;48.06668)', 'Embarked_<item>_S', 'Pclass_<item>_3.0'), 'support': 67, 'confidence': 0.8481012658227848, 'target': '0.0'}, 'wanted': {'itemset': ('Age_<item>_<32.10002;48.06668)', 'Embarked_<item>_S', 'Pclass_<item>_1.0'), 'support': 32, 'confidence': 0.5614035087719298, 'target': '1.0'}}\n",
      " \n",
      "{'unwanted': {'itemset': ('Age_<item>_<32.10002;48.06668)', 'Fare_<item>_avg', 'Pclass_<item>_2.0'), 'support': 26, 'confidence': 0.6666666666666666, 'target': '0.0'}, 'wanted': {'itemset': ('Age_<item>_<32.10002;48.06668)', 'Fare_<item>_very high', 'Pclass_<item>_1.0'), 'support': 52, 'confidence': 0.7222222222222222, 'target': '1.0'}}\n",
      " \n",
      "{'unwanted': {'itemset': ('Age_<item>_<32.10002;48.06668)', 'Fare_<item>_lower', 'Pclass_<item>_3.0'), 'support': 31, 'confidence': 0.9117647058823529, 'target': '0.0'}, 'wanted': {'itemset': ('Age_<item>_<32.10002;48.06668)', 'Fare_<item>_very high', 'Pclass_<item>_1.0'), 'support': 52, 'confidence': 0.7222222222222222, 'target': '1.0'}}\n",
      " \n",
      "{'unwanted': {'itemset': ('Age_<item>_<32.10002;48.06668)', 'Fare_<item>_very low', 'Pclass_<item>_3.0'), 'support': 26, 'confidence': 0.896551724137931, 'target': '0.0'}, 'wanted': {'itemset': ('Age_<item>_<32.10002;48.06668)', 'Fare_<item>_very high', 'Pclass_<item>_1.0'), 'support': 52, 'confidence': 0.7222222222222222, 'target': '1.0'}}\n",
      " \n",
      "{'unwanted': {'itemset': ('Sex_<item>_female', 'Embarked_<item>_S', 'Fare_<item>_lower'), 'support': 24, 'confidence': 0.6153846153846154, 'target': '0.0'}, 'wanted': {'itemset': ('Sex_<item>_female', 'Embarked_<item>_C', 'Fare_<item>_very high'), 'support': 65, 'confidence': 1.0, 'target': '1.0'}}\n",
      " \n",
      "{'unwanted': {'itemset': ('Sex_<item>_female', 'Embarked_<item>_S', 'Fare_<item>_lower'), 'support': 24, 'confidence': 0.6153846153846154, 'target': '0.0'}, 'wanted': {'itemset': ('Sex_<item>_female', 'Embarked_<item>_Q', 'Fare_<item>_very low'), 'support': 21, 'confidence': 0.5675675675675675, 'target': '1.0'}}\n",
      " \n",
      "{'unwanted': {'itemset': ('Sex_<item>_female', 'Embarked_<item>_S', 'Fare_<item>_lower'), 'support': 24, 'confidence': 0.6153846153846154, 'target': '0.0'}, 'wanted': {'itemset': ('Sex_<item>_female', 'Embarked_<item>_S', 'Fare_<item>_avg'), 'support': 59, 'confidence': 0.686046511627907, 'target': '1.0'}}\n",
      " \n",
      "{'unwanted': {'itemset': ('Sex_<item>_female', 'Embarked_<item>_S', 'Fare_<item>_lower'), 'support': 24, 'confidence': 0.6153846153846154, 'target': '0.0'}, 'wanted': {'itemset': ('Sex_<item>_female', 'Embarked_<item>_S', 'Fare_<item>_higher'), 'support': 57, 'confidence': 0.6951219512195121, 'target': '1.0'}}\n",
      " \n",
      "{'unwanted': {'itemset': ('Sex_<item>_female', 'Embarked_<item>_S', 'Fare_<item>_lower'), 'support': 24, 'confidence': 0.6153846153846154, 'target': '0.0'}, 'wanted': {'itemset': ('Sex_<item>_female', 'Embarked_<item>_S', 'Fare_<item>_very high'), 'support': 58, 'confidence': 0.8405797101449275, 'target': '1.0'}}\n",
      " \n",
      "{'unwanted': {'itemset': ('Sex_<item>_female', 'Embarked_<item>_S', 'Pclass_<item>_3.0'), 'support': 78, 'confidence': 0.6046511627906976, 'target': '0.0'}, 'wanted': {'itemset': ('Sex_<item>_female', 'Embarked_<item>_C', 'Pclass_<item>_1.0'), 'support': 69, 'confidence': 0.971830985915493, 'target': '1.0'}}\n",
      " \n",
      "{'unwanted': {'itemset': ('Sex_<item>_female', 'Embarked_<item>_S', 'Pclass_<item>_3.0'), 'support': 78, 'confidence': 0.6046511627906976, 'target': '0.0'}, 'wanted': {'itemset': ('Sex_<item>_female', 'Embarked_<item>_C', 'Pclass_<item>_3.0'), 'support': 22, 'confidence': 0.7096774193548387, 'target': '1.0'}}\n",
      " \n",
      "{'unwanted': {'itemset': ('Sex_<item>_female', 'Embarked_<item>_S', 'Pclass_<item>_3.0'), 'support': 78, 'confidence': 0.6046511627906976, 'target': '0.0'}, 'wanted': {'itemset': ('Sex_<item>_female', 'Embarked_<item>_Q', 'Pclass_<item>_3.0'), 'support': 33, 'confidence': 0.5892857142857143, 'target': '1.0'}}\n",
      " \n",
      "{'unwanted': {'itemset': ('Sex_<item>_female', 'Embarked_<item>_S', 'Pclass_<item>_3.0'), 'support': 78, 'confidence': 0.6046511627906976, 'target': '0.0'}, 'wanted': {'itemset': ('Sex_<item>_female', 'Embarked_<item>_S', 'Pclass_<item>_1.0'), 'support': 66, 'confidence': 0.9565217391304348, 'target': '1.0'}}\n",
      " \n",
      "{'unwanted': {'itemset': ('Sex_<item>_female', 'Embarked_<item>_S', 'Pclass_<item>_3.0'), 'support': 78, 'confidence': 0.6046511627906976, 'target': '0.0'}, 'wanted': {'itemset': ('Sex_<item>_female', 'Embarked_<item>_S', 'Pclass_<item>_2.0'), 'support': 81, 'confidence': 0.8709677419354839, 'target': '1.0'}}\n",
      " \n",
      "{'unwanted': {'itemset': ('Sex_<item>_female', 'Fare_<item>_higher', 'Pclass_<item>_3.0'), 'support': 22, 'confidence': 0.7096774193548387, 'target': '0.0'}, 'wanted': {'itemset': ('Sex_<item>_female', 'Fare_<item>_avg', 'Pclass_<item>_2.0'), 'support': 42, 'confidence': 0.84, 'target': '1.0'}}\n",
      " \n",
      "{'unwanted': {'itemset': ('Sex_<item>_female', 'Fare_<item>_lower', 'Pclass_<item>_3.0'), 'support': 28, 'confidence': 0.5714285714285714, 'target': '0.0'}, 'wanted': {'itemset': ('Sex_<item>_female', 'Fare_<item>_avg', 'Pclass_<item>_2.0'), 'support': 42, 'confidence': 0.84, 'target': '1.0'}}\n",
      " \n",
      "{'unwanted': {'itemset': ('Sex_<item>_female', 'Fare_<item>_higher', 'Pclass_<item>_3.0'), 'support': 22, 'confidence': 0.7096774193548387, 'target': '0.0'}, 'wanted': {'itemset': ('Sex_<item>_female', 'Fare_<item>_avg', 'Pclass_<item>_3.0'), 'support': 39, 'confidence': 0.5652173913043478, 'target': '1.0'}}\n",
      " \n",
      "{'unwanted': {'itemset': ('Sex_<item>_female', 'Fare_<item>_lower', 'Pclass_<item>_3.0'), 'support': 28, 'confidence': 0.5714285714285714, 'target': '0.0'}, 'wanted': {'itemset': ('Sex_<item>_female', 'Fare_<item>_avg', 'Pclass_<item>_3.0'), 'support': 39, 'confidence': 0.5652173913043478, 'target': '1.0'}}\n",
      " \n",
      "{'unwanted': {'itemset': ('Sex_<item>_female', 'Fare_<item>_higher', 'Pclass_<item>_3.0'), 'support': 22, 'confidence': 0.7096774193548387, 'target': '0.0'}, 'wanted': {'itemset': ('Sex_<item>_female', 'Fare_<item>_higher', 'Pclass_<item>_2.0'), 'support': 46, 'confidence': 0.92, 'target': '1.0'}}\n",
      " \n",
      "{'unwanted': {'itemset': ('Sex_<item>_female', 'Fare_<item>_lower', 'Pclass_<item>_3.0'), 'support': 28, 'confidence': 0.5714285714285714, 'target': '0.0'}, 'wanted': {'itemset': ('Sex_<item>_female', 'Fare_<item>_higher', 'Pclass_<item>_2.0'), 'support': 46, 'confidence': 0.92, 'target': '1.0'}}\n",
      " \n",
      "{'unwanted': {'itemset': ('Sex_<item>_female', 'Fare_<item>_higher', 'Pclass_<item>_3.0'), 'support': 22, 'confidence': 0.7096774193548387, 'target': '0.0'}, 'wanted': {'itemset': ('Sex_<item>_female', 'Fare_<item>_very high', 'Pclass_<item>_1.0'), 'support': 121, 'confidence': 0.9758064516129032, 'target': '1.0'}}\n",
      " \n",
      "{'unwanted': {'itemset': ('Sex_<item>_female', 'Fare_<item>_lower', 'Pclass_<item>_3.0'), 'support': 28, 'confidence': 0.5714285714285714, 'target': '0.0'}, 'wanted': {'itemset': ('Sex_<item>_female', 'Fare_<item>_very high', 'Pclass_<item>_1.0'), 'support': 121, 'confidence': 0.9758064516129032, 'target': '1.0'}}\n",
      " \n",
      "{'unwanted': {'itemset': ('Sex_<item>_female', 'Fare_<item>_higher', 'Pclass_<item>_3.0'), 'support': 22, 'confidence': 0.7096774193548387, 'target': '0.0'}, 'wanted': {'itemset': ('Sex_<item>_female', 'Fare_<item>_very low', 'Pclass_<item>_3.0'), 'support': 37, 'confidence': 0.6271186440677966, 'target': '1.0'}}\n",
      " \n",
      "{'unwanted': {'itemset': ('Sex_<item>_female', 'Fare_<item>_lower', 'Pclass_<item>_3.0'), 'support': 28, 'confidence': 0.5714285714285714, 'target': '0.0'}, 'wanted': {'itemset': ('Sex_<item>_female', 'Fare_<item>_very low', 'Pclass_<item>_3.0'), 'support': 37, 'confidence': 0.6271186440677966, 'target': '1.0'}}\n",
      " \n",
      "{'unwanted': {'itemset': ('Age_<item>_<16.13336;32.10002)', 'Embarked_<item>_S', 'Fare_<item>_avg', 'Pclass_<item>_2.0'), 'support': 55, 'confidence': 0.6962025316455697, 'target': '0.0'}, 'wanted': {'itemset': ('Age_<item>_<16.13336;32.10002)', 'Embarked_<item>_C', 'Fare_<item>_very high', 'Pclass_<item>_1.0'), 'support': 29, 'confidence': 0.8055555555555556, 'target': '1.0'}}\n",
      " \n",
      "{'unwanted': {'itemset': ('Age_<item>_<16.13336;32.10002)', 'Embarked_<item>_S', 'Fare_<item>_avg', 'Pclass_<item>_3.0'), 'support': 22, 'confidence': 0.7096774193548387, 'target': '0.0'}, 'wanted': {'itemset': ('Age_<item>_<16.13336;32.10002)', 'Embarked_<item>_C', 'Fare_<item>_very high', 'Pclass_<item>_1.0'), 'support': 29, 'confidence': 0.8055555555555556, 'target': '1.0'}}\n",
      " \n",
      "{'unwanted': {'itemset': ('Age_<item>_<16.13336;32.10002)', 'Embarked_<item>_S', 'Fare_<item>_lower', 'Pclass_<item>_3.0'), 'support': 105, 'confidence': 0.813953488372093, 'target': '0.0'}, 'wanted': {'itemset': ('Age_<item>_<16.13336;32.10002)', 'Embarked_<item>_C', 'Fare_<item>_very high', 'Pclass_<item>_1.0'), 'support': 29, 'confidence': 0.8055555555555556, 'target': '1.0'}}\n",
      " \n",
      "{'unwanted': {'itemset': ('Age_<item>_<16.13336;32.10002)', 'Embarked_<item>_S', 'Fare_<item>_very low', 'Pclass_<item>_3.0'), 'support': 45, 'confidence': 0.6716417910447762, 'target': '0.0'}, 'wanted': {'itemset': ('Age_<item>_<16.13336;32.10002)', 'Embarked_<item>_C', 'Fare_<item>_very high', 'Pclass_<item>_1.0'), 'support': 29, 'confidence': 0.8055555555555556, 'target': '1.0'}}\n",
      " \n",
      "{'unwanted': {'itemset': ('Age_<item>_<16.13336;32.10002)', 'Embarked_<item>_S', 'Fare_<item>_avg', 'Pclass_<item>_2.0'), 'support': 55, 'confidence': 0.6962025316455697, 'target': '0.0'}, 'wanted': {'itemset': ('Age_<item>_<16.13336;32.10002)', 'Embarked_<item>_S', 'Fare_<item>_very high', 'Pclass_<item>_1.0'), 'support': 23, 'confidence': 0.6388888888888888, 'target': '1.0'}}\n",
      " \n",
      "{'unwanted': {'itemset': ('Age_<item>_<16.13336;32.10002)', 'Embarked_<item>_S', 'Fare_<item>_avg', 'Pclass_<item>_3.0'), 'support': 22, 'confidence': 0.7096774193548387, 'target': '0.0'}, 'wanted': {'itemset': ('Age_<item>_<16.13336;32.10002)', 'Embarked_<item>_S', 'Fare_<item>_very high', 'Pclass_<item>_1.0'), 'support': 23, 'confidence': 0.6388888888888888, 'target': '1.0'}}\n",
      " \n",
      "{'unwanted': {'itemset': ('Age_<item>_<16.13336;32.10002)', 'Embarked_<item>_S', 'Fare_<item>_lower', 'Pclass_<item>_3.0'), 'support': 105, 'confidence': 0.813953488372093, 'target': '0.0'}, 'wanted': {'itemset': ('Age_<item>_<16.13336;32.10002)', 'Embarked_<item>_S', 'Fare_<item>_very high', 'Pclass_<item>_1.0'), 'support': 23, 'confidence': 0.6388888888888888, 'target': '1.0'}}\n",
      " \n",
      "{'unwanted': {'itemset': ('Age_<item>_<16.13336;32.10002)', 'Embarked_<item>_S', 'Fare_<item>_very low', 'Pclass_<item>_3.0'), 'support': 45, 'confidence': 0.6716417910447762, 'target': '0.0'}, 'wanted': {'itemset': ('Age_<item>_<16.13336;32.10002)', 'Embarked_<item>_S', 'Fare_<item>_very high', 'Pclass_<item>_1.0'), 'support': 23, 'confidence': 0.6388888888888888, 'target': '1.0'}}\n",
      " \n",
      "{'unwanted': {'itemset': ('Age_<item>_<32.10002;48.06668)', 'Embarked_<item>_S', 'Fare_<item>_avg', 'Pclass_<item>_2.0'), 'support': 23, 'confidence': 0.6388888888888888, 'target': '0.0'}, 'wanted': {'itemset': ('Age_<item>_<32.10002;48.06668)', 'Embarked_<item>_C', 'Fare_<item>_very high', 'Pclass_<item>_1.0'), 'support': 25, 'confidence': 0.7352941176470589, 'target': '1.0'}}\n",
      " \n",
      "{'unwanted': {'itemset': ('Age_<item>_<32.10002;48.06668)', 'Embarked_<item>_S', 'Fare_<item>_lower', 'Pclass_<item>_3.0'), 'support': 28, 'confidence': 0.9032258064516129, 'target': '0.0'}, 'wanted': {'itemset': ('Age_<item>_<32.10002;48.06668)', 'Embarked_<item>_C', 'Fare_<item>_very high', 'Pclass_<item>_1.0'), 'support': 25, 'confidence': 0.7352941176470589, 'target': '1.0'}}\n",
      " \n",
      "{'unwanted': {'itemset': ('Age_<item>_<32.10002;48.06668)', 'Embarked_<item>_S', 'Fare_<item>_avg', 'Pclass_<item>_2.0'), 'support': 23, 'confidence': 0.6388888888888888, 'target': '0.0'}, 'wanted': {'itemset': ('Age_<item>_<32.10002;48.06668)', 'Embarked_<item>_S', 'Fare_<item>_very high', 'Pclass_<item>_1.0'), 'support': 24, 'confidence': 0.7058823529411765, 'target': '1.0'}}\n",
      " \n",
      "{'unwanted': {'itemset': ('Age_<item>_<32.10002;48.06668)', 'Embarked_<item>_S', 'Fare_<item>_lower', 'Pclass_<item>_3.0'), 'support': 28, 'confidence': 0.9032258064516129, 'target': '0.0'}, 'wanted': {'itemset': ('Age_<item>_<32.10002;48.06668)', 'Embarked_<item>_S', 'Fare_<item>_very high', 'Pclass_<item>_1.0'), 'support': 24, 'confidence': 0.7058823529411765, 'target': '1.0'}}\n",
      " \n",
      "{'unwanted': {'itemset': ('Sex_<item>_female', 'Embarked_<item>_S', 'Fare_<item>_higher', 'Pclass_<item>_3.0'), 'support': 21, 'confidence': 0.84, 'target': '0.0'}, 'wanted': {'itemset': ('Sex_<item>_female', 'Embarked_<item>_C', 'Fare_<item>_very high', 'Pclass_<item>_1.0'), 'support': 62, 'confidence': 1.0, 'target': '1.0'}}\n",
      " \n",
      "{'unwanted': {'itemset': ('Sex_<item>_female', 'Embarked_<item>_S', 'Fare_<item>_lower', 'Pclass_<item>_3.0'), 'support': 24, 'confidence': 0.6153846153846154, 'target': '0.0'}, 'wanted': {'itemset': ('Sex_<item>_female', 'Embarked_<item>_C', 'Fare_<item>_very high', 'Pclass_<item>_1.0'), 'support': 62, 'confidence': 1.0, 'target': '1.0'}}\n",
      " \n",
      "{'unwanted': {'itemset': ('Sex_<item>_female', 'Embarked_<item>_S', 'Fare_<item>_higher', 'Pclass_<item>_3.0'), 'support': 21, 'confidence': 0.84, 'target': '0.0'}, 'wanted': {'itemset': ('Sex_<item>_female', 'Embarked_<item>_Q', 'Fare_<item>_very low', 'Pclass_<item>_3.0'), 'support': 21, 'confidence': 0.5675675675675675, 'target': '1.0'}}\n",
      " \n",
      "{'unwanted': {'itemset': ('Sex_<item>_female', 'Embarked_<item>_S', 'Fare_<item>_lower', 'Pclass_<item>_3.0'), 'support': 24, 'confidence': 0.6153846153846154, 'target': '0.0'}, 'wanted': {'itemset': ('Sex_<item>_female', 'Embarked_<item>_Q', 'Fare_<item>_very low', 'Pclass_<item>_3.0'), 'support': 21, 'confidence': 0.5675675675675675, 'target': '1.0'}}\n",
      " \n",
      "{'unwanted': {'itemset': ('Sex_<item>_female', 'Embarked_<item>_S', 'Fare_<item>_higher', 'Pclass_<item>_3.0'), 'support': 21, 'confidence': 0.84, 'target': '0.0'}, 'wanted': {'itemset': ('Sex_<item>_female', 'Embarked_<item>_S', 'Fare_<item>_avg', 'Pclass_<item>_2.0'), 'support': 36, 'confidence': 0.8181818181818182, 'target': '1.0'}}\n",
      " \n",
      "{'unwanted': {'itemset': ('Sex_<item>_female', 'Embarked_<item>_S', 'Fare_<item>_lower', 'Pclass_<item>_3.0'), 'support': 24, 'confidence': 0.6153846153846154, 'target': '0.0'}, 'wanted': {'itemset': ('Sex_<item>_female', 'Embarked_<item>_S', 'Fare_<item>_avg', 'Pclass_<item>_2.0'), 'support': 36, 'confidence': 0.8181818181818182, 'target': '1.0'}}\n",
      " \n",
      "{'unwanted': {'itemset': ('Sex_<item>_female', 'Embarked_<item>_S', 'Fare_<item>_higher', 'Pclass_<item>_3.0'), 'support': 21, 'confidence': 0.84, 'target': '0.0'}, 'wanted': {'itemset': ('Sex_<item>_female', 'Embarked_<item>_S', 'Fare_<item>_higher', 'Pclass_<item>_2.0'), 'support': 42, 'confidence': 0.9130434782608695, 'target': '1.0'}}\n",
      " \n",
      "{'unwanted': {'itemset': ('Sex_<item>_female', 'Embarked_<item>_S', 'Fare_<item>_lower', 'Pclass_<item>_3.0'), 'support': 24, 'confidence': 0.6153846153846154, 'target': '0.0'}, 'wanted': {'itemset': ('Sex_<item>_female', 'Embarked_<item>_S', 'Fare_<item>_higher', 'Pclass_<item>_2.0'), 'support': 42, 'confidence': 0.9130434782608695, 'target': '1.0'}}\n",
      " \n",
      "{'unwanted': {'itemset': ('Sex_<item>_female', 'Embarked_<item>_S', 'Fare_<item>_higher', 'Pclass_<item>_3.0'), 'support': 21, 'confidence': 0.84, 'target': '0.0'}, 'wanted': {'itemset': ('Sex_<item>_female', 'Embarked_<item>_S', 'Fare_<item>_very high', 'Pclass_<item>_1.0'), 'support': 55, 'confidence': 0.9482758620689655, 'target': '1.0'}}\n",
      " \n",
      "{'unwanted': {'itemset': ('Sex_<item>_female', 'Embarked_<item>_S', 'Fare_<item>_lower', 'Pclass_<item>_3.0'), 'support': 24, 'confidence': 0.6153846153846154, 'target': '0.0'}, 'wanted': {'itemset': ('Sex_<item>_female', 'Embarked_<item>_S', 'Fare_<item>_very high', 'Pclass_<item>_1.0'), 'support': 55, 'confidence': 0.9482758620689655, 'target': '1.0'}}\n",
      " \n"
     ]
    }
   ],
   "source": [
    "print('ACTION RULES')\n",
    "for rule in action_rules:\n",
    "    print(rule)\n",
    "    print(\" \")"
   ]
  },
  {
   "cell_type": "code",
   "execution_count": 23,
   "id": "5da41d3a",
   "metadata": {},
   "outputs": [
    {
     "name": "stdout",
     "output_type": "stream",
     "text": [
      "97\n"
     ]
    }
   ],
   "source": [
    "print(len(action_rules))"
   ]
  },
  {
   "cell_type": "markdown",
   "id": "9b0822fa",
   "metadata": {},
   "source": [
    "# Compare speed"
   ]
  },
  {
   "cell_type": "markdown",
   "id": "e9246de6",
   "metadata": {},
   "source": [
    "Support 20"
   ]
  },
  {
   "cell_type": "code",
   "execution_count": 24,
   "id": "58ebe145",
   "metadata": {},
   "outputs": [],
   "source": [
    "def runPyApriori():\n",
    "    minsup = 20/len(dataFrame)\n",
    "    actionRulesDiscovery = ActionRulesDiscovery()\n",
    "    actionRulesDiscovery.load_pandas(dataFrame)\n",
    "    actionRulesDiscovery.fit(stable_attributes = [\"Age\", \"Sex\"],\n",
    "                             flexible_attributes = [\"Embarked\", \"Fare\", \"Pclass\"],\n",
    "                             consequent = \"Survived\",\n",
    "                             conf=55,\n",
    "                             supp=minsup*100,\n",
    "                             desired_classes = [\"1.0\"],\n",
    "                             is_strict_flexible = False\n",
    "                             )"
   ]
  },
  {
   "cell_type": "code",
   "execution_count": 25,
   "id": "153db558",
   "metadata": {},
   "outputs": [],
   "source": [
    "# Input\n",
    "stable_attributes = ['Age','Sex']\n",
    "flexible_attributes = [\"Embarked\", \"Fare\", \"Pclass\"]\n",
    "target = 'Survived'\n",
    "wanted_change_in_target = ['0.0', '1.0']\n",
    "min_stable_attributes = 1\n",
    "min_flexible_attributes = 1 #min 1\n",
    "min_unwanted_support = 20\n",
    "min_unwanted_confidence = 0.55 #min 0.5\n",
    "min_wanted_support = 20\n",
    "min_wanted_confidence = 0.55 #min 0.5"
   ]
  },
  {
   "cell_type": "code",
   "execution_count": 26,
   "id": "7ebdcab2",
   "metadata": {},
   "outputs": [
    {
     "name": "stdout",
     "output_type": "stream",
     "text": [
      "656 ms ± 103 ms per loop (mean ± std. dev. of 7 runs, 1 loop each)\n"
     ]
    }
   ],
   "source": [
    "%timeit runPyApriori()"
   ]
  },
  {
   "cell_type": "code",
   "execution_count": 27,
   "id": "e4aaabdb",
   "metadata": {},
   "outputs": [
    {
     "name": "stdout",
     "output_type": "stream",
     "text": [
      "182 ms ± 10 ms per loop (mean ± std. dev. of 7 runs, 10 loops each)\n"
     ]
    }
   ],
   "source": [
    "%timeit ar_apriori(data, stable_attributes, flexible_attributes, target, wanted_change_in_target, min_stable_attributes , min_flexible_attributes, min_unwanted_support, min_unwanted_confidence, min_wanted_support, min_wanted_confidence)"
   ]
  },
  {
   "cell_type": "markdown",
   "id": "f9dcebfa",
   "metadata": {},
   "source": [
    "Support 15"
   ]
  },
  {
   "cell_type": "code",
   "execution_count": 28,
   "id": "ab1edacc",
   "metadata": {},
   "outputs": [],
   "source": [
    "def runPyApriori15():\n",
    "    minsup = 15/len(dataFrame)\n",
    "    actionRulesDiscovery = ActionRulesDiscovery()\n",
    "    actionRulesDiscovery.load_pandas(dataFrame)\n",
    "    actionRulesDiscovery.fit(stable_attributes = [\"Age\", \"Sex\"],\n",
    "                             flexible_attributes = [\"Embarked\", \"Fare\", \"Pclass\"],\n",
    "                             consequent = \"Survived\",\n",
    "                             conf=55,\n",
    "                             supp=minsup*100,\n",
    "                             desired_classes = [\"1.0\"],\n",
    "                             is_strict_flexible = False\n",
    "                             )"
   ]
  },
  {
   "cell_type": "code",
   "execution_count": 29,
   "id": "956580f7",
   "metadata": {},
   "outputs": [],
   "source": [
    "# Input\n",
    "stable_attributes = ['Age','Sex']\n",
    "flexible_attributes = [\"Embarked\", \"Fare\", \"Pclass\"]\n",
    "target = 'Survived'\n",
    "wanted_change_in_target = ['0.0', '1.0']\n",
    "min_stable_attributes = 1\n",
    "min_flexible_attributes = 1 #min 1\n",
    "min_unwanted_support = 15\n",
    "min_unwanted_confidence = 0.55 #min 0.5\n",
    "min_wanted_support = 15\n",
    "min_wanted_confidence = 0.55 #min 0.5"
   ]
  },
  {
   "cell_type": "code",
   "execution_count": 30,
   "id": "abc1745e",
   "metadata": {},
   "outputs": [
    {
     "name": "stdout",
     "output_type": "stream",
     "text": [
      "636 ms ± 34.5 ms per loop (mean ± std. dev. of 7 runs, 1 loop each)\n"
     ]
    }
   ],
   "source": [
    "%timeit runPyApriori15()"
   ]
  },
  {
   "cell_type": "code",
   "execution_count": 31,
   "id": "3f124d26",
   "metadata": {},
   "outputs": [
    {
     "name": "stdout",
     "output_type": "stream",
     "text": [
      "238 ms ± 24.5 ms per loop (mean ± std. dev. of 7 runs, 1 loop each)\n"
     ]
    }
   ],
   "source": [
    "%timeit ar_apriori(data, stable_attributes, flexible_attributes, target, wanted_change_in_target, min_stable_attributes , min_flexible_attributes, min_unwanted_support, min_unwanted_confidence, min_wanted_support, min_wanted_confidence)"
   ]
  },
  {
   "cell_type": "markdown",
   "id": "3a55e3a7",
   "metadata": {},
   "source": [
    "Support 10"
   ]
  },
  {
   "cell_type": "code",
   "execution_count": 32,
   "id": "293b5cab",
   "metadata": {},
   "outputs": [],
   "source": [
    "def runPyApriori10():\n",
    "    minsup = 10/len(dataFrame)\n",
    "    actionRulesDiscovery = ActionRulesDiscovery()\n",
    "    actionRulesDiscovery.load_pandas(dataFrame)\n",
    "    actionRulesDiscovery.fit(stable_attributes = [\"Age\", \"Sex\"],\n",
    "                             flexible_attributes = [\"Embarked\", \"Fare\", \"Pclass\"],\n",
    "                             consequent = \"Survived\",\n",
    "                             conf=55,\n",
    "                             supp=minsup*100,\n",
    "                             desired_classes = [\"1.0\"],\n",
    "                             is_strict_flexible = False\n",
    "                             )"
   ]
  },
  {
   "cell_type": "code",
   "execution_count": 33,
   "id": "a683c58e",
   "metadata": {},
   "outputs": [],
   "source": [
    "# Input\n",
    "stable_attributes = ['Age','Sex']\n",
    "flexible_attributes = [\"Embarked\", \"Fare\", \"Pclass\"]\n",
    "target = 'Survived'\n",
    "wanted_change_in_target = ['0.0', '1.0']\n",
    "min_stable_attributes = 1\n",
    "min_flexible_attributes = 1 #min 1\n",
    "min_unwanted_support = 10\n",
    "min_unwanted_confidence = 0.55 #min 0.5\n",
    "min_wanted_support = 10\n",
    "min_wanted_confidence = 0.55 #min 0.5"
   ]
  },
  {
   "cell_type": "code",
   "execution_count": 34,
   "id": "abd58e1d",
   "metadata": {},
   "outputs": [
    {
     "name": "stdout",
     "output_type": "stream",
     "text": [
      "779 ms ± 61.5 ms per loop (mean ± std. dev. of 7 runs, 1 loop each)\n"
     ]
    }
   ],
   "source": [
    "%timeit runPyApriori10()"
   ]
  },
  {
   "cell_type": "code",
   "execution_count": 35,
   "id": "54ed7f3a",
   "metadata": {},
   "outputs": [
    {
     "name": "stdout",
     "output_type": "stream",
     "text": [
      "303 ms ± 37.7 ms per loop (mean ± std. dev. of 7 runs, 1 loop each)\n"
     ]
    }
   ],
   "source": [
    "%timeit ar_apriori(data, stable_attributes, flexible_attributes, target, wanted_change_in_target, min_stable_attributes , min_flexible_attributes, min_unwanted_support, min_unwanted_confidence, min_wanted_support, min_wanted_confidence)"
   ]
  }
 ],
 "metadata": {
  "kernelspec": {
   "display_name": "Python 3 (ipykernel)",
   "language": "python",
   "name": "python3"
  },
  "language_info": {
   "codemirror_mode": {
    "name": "ipython",
    "version": 3
   },
   "file_extension": ".py",
   "mimetype": "text/x-python",
   "name": "python",
   "nbconvert_exporter": "python",
   "pygments_lexer": "ipython3",
   "version": "3.9.7"
  }
 },
 "nbformat": 4,
 "nbformat_minor": 5
}
